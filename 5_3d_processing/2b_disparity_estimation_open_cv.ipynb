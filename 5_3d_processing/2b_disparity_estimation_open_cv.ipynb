{
 "cells": [
  {
   "cell_type": "markdown",
   "id": "3e474022",
   "metadata": {},
   "source": [
    "# Disparity estimation in OpenCV\n",
    "\n",
    "OpenCV already includes implementations of a few disparity estimation algorithms, which are shown below."
   ]
  },
  {
   "cell_type": "code",
   "execution_count": 1,
   "id": "78f23c95",
   "metadata": {},
   "outputs": [],
   "source": [
    "import cv2\n",
    "import matplotlib.pyplot as plt\n",
    "import numpy as np"
   ]
  },
  {
   "cell_type": "code",
   "execution_count": 2,
   "id": "828d688e",
   "metadata": {},
   "outputs": [],
   "source": [
    "PLY_HEADER = '''ply\n",
    "format ascii 1.0\n",
    "element vertex %(vert_num)d\n",
    "property float x\n",
    "property float y\n",
    "property float z\n",
    "property uchar red\n",
    "property uchar green\n",
    "property uchar blue\n",
    "end_header\n",
    "'''\n",
    "\n",
    "def write_ply(fn, verts, colors):\n",
    "    verts = verts.reshape(-1, 3)\n",
    "    colors = colors.reshape(-1, 3)\n",
    "    verts = np.hstack([verts, colors])\n",
    "    with open(fn, 'wb') as f:\n",
    "        f.write((PLY_HEADER % dict(vert_num=len(verts))).encode('utf-8'))\n",
    "        np.savetxt(f, verts, fmt='%f %f %f %d %d %d ')"
   ]
  },
  {
   "cell_type": "code",
   "execution_count": 3,
   "id": "12c9f5c6",
   "metadata": {},
   "outputs": [],
   "source": [
    "imgL = cv2.pyrDown( cv2.imread('./data/view_left.png') )  # downscale images for faster processing\n",
    "imgR = cv2.pyrDown( cv2.imread('./data/view_right.png') )\n",
    "\n",
    "# disparity range is tuned for 'aloe' image pair\n",
    "window_size = 3\n",
    "min_disp = 16\n",
    "num_disp = 112 - min_disp\n",
    "\n",
    "stereo = cv2.StereoSGBM_create(minDisparity = min_disp,\n",
    "    numDisparities = num_disp,\n",
    "    blockSize = 16,\n",
    "    P1 = 8*3*window_size**2,\n",
    "    P2 = 32*3*window_size**2,\n",
    "    disp12MaxDiff = 1,\n",
    "    uniquenessRatio = 10,\n",
    "    speckleWindowSize = 100,\n",
    "    speckleRange = 32\n",
    ")\n",
    "\n",
    "disparity = stereo.compute(imgL, imgR).astype(np.float32) / 16.0\n",
    "\n",
    "h, w = imgL.shape[:2]\n",
    "f = 0.8*w                          # guess for focal length\n",
    "Q = np.float32([[1, 0, 0, -0.5*w],\n",
    "                [0,-1, 0,  0.5*h], # turn points 180 deg around x-axis,\n",
    "                [0, 0, 0,     -f], # so that y-axis looks up\n",
    "                [0, 0, 1,      0]])\n",
    "points = cv2.reprojectImageTo3D(disparity, Q)\n",
    "colors = cv2.cvtColor(imgL, cv2.COLOR_BGR2RGB)\n",
    "\n",
    "mask = disparity > disparity.min()\n",
    "out_points = points[mask]\n",
    "out_colors = colors[mask]\n",
    "\n",
    "out_fn = 'dip_est_cv2_out.ply'\n",
    "write_ply(out_fn, out_points, out_colors)"
   ]
  },
  {
   "cell_type": "code",
   "execution_count": 4,
   "id": "5513db70",
   "metadata": {},
   "outputs": [
    {
     "name": "stdout",
     "output_type": "stream",
     "text": [
      "Jupyter environment detected. Enabling Open3D WebVisualizer.\n",
      "[Open3D INFO] WebRTC GUI backend enabled.\n",
      "[Open3D INFO] WebRTCWindowSystem: HTTP handshake server disabled.\n"
     ]
    }
   ],
   "source": [
    "import open3d as o3d\n",
    "\n",
    "pcd = o3d.io.read_point_cloud(out_fn)"
   ]
  },
  {
   "cell_type": "code",
   "execution_count": 5,
   "id": "160b868d",
   "metadata": {},
   "outputs": [
    {
     "data": {
      "application/vnd.jupyter.widget-view+json": {
       "model_id": "9f5ef77177bf4254bf016a7a7bbd31c3",
       "version_major": 2,
       "version_minor": 0
      },
      "text/plain": [
       "Output()"
      ]
     },
     "metadata": {},
     "output_type": "display_data"
    }
   ],
   "source": [
    "from lib.plots import plot_point_cloud\n",
    "\n",
    "plot = plot_point_cloud(pcd, point_size=0.1)\n",
    "\n",
    "plot.camera = [\n",
    "    5.4, 2.0, 4.0,\n",
    "    0, 0, -18,\n",
    "    0, 1, 0\n",
    "]\n",
    "\n",
    "plot.display()"
   ]
  },
  {
   "cell_type": "code",
   "execution_count": null,
   "id": "0bb587ce",
   "metadata": {},
   "outputs": [],
   "source": []
  }
 ],
 "metadata": {
  "kernelspec": {
   "display_name": "Python 3",
   "language": "python",
   "name": "python3"
  },
  "language_info": {
   "codemirror_mode": {
    "name": "ipython",
    "version": 3
   },
   "file_extension": ".py",
   "mimetype": "text/x-python",
   "name": "python",
   "nbconvert_exporter": "python",
   "pygments_lexer": "ipython3",
   "version": "3.6.9"
  }
 },
 "nbformat": 4,
 "nbformat_minor": 5
}
