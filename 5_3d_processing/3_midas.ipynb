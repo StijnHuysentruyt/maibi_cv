{
 "cells": [
  {
   "cell_type": "code",
   "execution_count": null,
   "id": "b3df2ad9",
   "metadata": {},
   "outputs": [],
   "source": [
    "from lib.midas.run import run"
   ]
  },
  {
   "cell_type": "markdown",
   "id": "2271641e",
   "metadata": {},
   "source": [
    "Download models:\n",
    "\n",
    "- [MiDaS](https://github.com/AlexeyAB/MiDaS/releases/download/midas_dpt/midas_v21-f6b98070.pt)\n",
    "- [DPT](https://github.com/intel-isl/DPT/releases/download/1_0/dpt_large-midas-2f21e586.pt)"
   ]
  },
  {
   "cell_type": "code",
   "execution_count": null,
   "id": "428d9c94",
   "metadata": {
    "scrolled": false
   },
   "outputs": [],
   "source": [
    "run(img_name='lib/midas/midas/input/image002.jpg',\n",
    "    model_path='lib/midas/weights/dpt_large-midas-2f21e586.pt')"
   ]
  },
  {
   "cell_type": "code",
   "execution_count": null,
   "id": "a09b3325",
   "metadata": {},
   "outputs": [],
   "source": [
    "import cv2\n",
    "\n",
    "img = cv2.imread('lib/midas/midas/input/image002.jpg')\n",
    "img = cv2.cvtColor(img, cv2.COLOR_BGR2RGB)\n",
    "depth = cv2.imread('output/image002.png', cv2.IMREAD_UNCHANGED)"
   ]
  },
  {
   "cell_type": "code",
   "execution_count": null,
   "id": "0c682dbe",
   "metadata": {},
   "outputs": [],
   "source": [
    "import matplotlib.pyplot as plt\n",
    "\n",
    "fig, axes = plt.subplots(ncols=2, figsize=(12, 4))\n",
    "\n",
    "axes[0].imshow(img)\n",
    "axes[1].imshow(depth)"
   ]
  }
 ],
 "metadata": {
  "kernelspec": {
   "display_name": "Python 3",
   "language": "python",
   "name": "python3"
  },
  "language_info": {
   "codemirror_mode": {
    "name": "ipython",
    "version": 3
   },
   "file_extension": ".py",
   "mimetype": "text/x-python",
   "name": "python",
   "nbconvert_exporter": "python",
   "pygments_lexer": "ipython3",
   "version": "3.6.9"
  }
 },
 "nbformat": 4,
 "nbformat_minor": 5
}
