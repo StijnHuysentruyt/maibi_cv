{
 "cells": [
  {
   "cell_type": "markdown",
   "id": "4d918439",
   "metadata": {},
   "source": [
    "# Voxel grid"
   ]
  },
  {
   "cell_type": "code",
   "execution_count": 1,
   "id": "94655ee4",
   "metadata": {},
   "outputs": [
    {
     "name": "stdout",
     "output_type": "stream",
     "text": [
      "Jupyter environment detected. Enabling Open3D WebVisualizer.\n",
      "[Open3D INFO] WebRTC GUI backend enabled.\n",
      "[Open3D INFO] WebRTCWindowSystem: HTTP handshake server disabled.\n"
     ]
    }
   ],
   "source": [
    "import open3d as o3d\n",
    "import numpy as np\n",
    "\n",
    "from lib.plots import plot_point_cloud"
   ]
  },
  {
   "cell_type": "markdown",
   "id": "3c1617cf",
   "metadata": {},
   "source": [
    "Point clouds are an unstructured three-dimensial format. Points have no defined relationship to neighbours (unlike meshes, which connect points into surfaces), and the distribution of points is not uniform. *Voxel grids*, on the other hand, are a uniformly distributed representation of three-dimensional data. A voxel grid divides space into (usually evenly-sized) volume units (voxels). To represent a point cloud, these voxels can have varying occupancy, depending on the local point densities; they can even by empty."
   ]
  },
  {
   "cell_type": "markdown",
   "id": "48ffd03b",
   "metadata": {},
   "source": [
    "## Load point cloud data"
   ]
  },
  {
   "cell_type": "code",
   "execution_count": 2,
   "id": "504416ef",
   "metadata": {},
   "outputs": [],
   "source": [
    "dataset = o3d.data.BunnyMesh()\n",
    "mesh = o3d.io.read_triangle_mesh(dataset.path)\n",
    "\n",
    "N = 10000\n",
    "pcd = mesh.sample_points_poisson_disk(N)"
   ]
  },
  {
   "cell_type": "code",
   "execution_count": 3,
   "id": "a8009770",
   "metadata": {},
   "outputs": [],
   "source": [
    "CAMERA = [\n",
    "    0.1, 0.2, 0.3,\n",
    "    0, 0.1, 0,\n",
    "    0, 1, 0\n",
    "]"
   ]
  },
  {
   "cell_type": "code",
   "execution_count": 4,
   "id": "97d469ed",
   "metadata": {},
   "outputs": [
    {
     "data": {
      "application/vnd.jupyter.widget-view+json": {
       "model_id": "b0c9895169fa4651aba82d7c74dce4c9",
       "version_major": 2,
       "version_minor": 0
      },
      "text/plain": [
       "Output()"
      ]
     },
     "metadata": {},
     "output_type": "display_data"
    }
   ],
   "source": [
    "plot = plot_point_cloud(pcd)\n",
    "plot.camera = CAMERA\n",
    "plot.display()"
   ]
  },
  {
   "cell_type": "markdown",
   "id": "2afd8cb1",
   "metadata": {},
   "source": [
    "## Create voxel grid"
   ]
  },
  {
   "cell_type": "code",
   "execution_count": 5,
   "id": "b983c770",
   "metadata": {},
   "outputs": [],
   "source": [
    "resolution = 20\n",
    "\n",
    "max_size = np.max(pcd.get_max_bound() - pcd.get_min_bound())\n",
    "voxel_size = max_size / resolution\n",
    "\n",
    "voxel_grid = o3d.geometry.VoxelGrid.create_from_point_cloud(pcd,\n",
    "                                                            voxel_size=voxel_size)"
   ]
  },
  {
   "cell_type": "markdown",
   "id": "990ebef1",
   "metadata": {},
   "source": [
    "## Visualize voxel grid"
   ]
  },
  {
   "cell_type": "code",
   "execution_count": 6,
   "id": "f7f172f4",
   "metadata": {},
   "outputs": [
    {
     "data": {
      "application/vnd.jupyter.widget-view+json": {
       "model_id": "7fe320d1b8a0439e9c586b4102264c39",
       "version_major": 2,
       "version_minor": 0
      },
      "text/plain": [
       "Output()"
      ]
     },
     "metadata": {},
     "output_type": "display_data"
    }
   ],
   "source": [
    "from lib.plots import plot_voxel_grid\n",
    "\n",
    "plot = plot_voxel_grid(voxel_grid)\n",
    "plot.camera = [\n",
    "    resolution*2, resolution, resolution*0.5,\n",
    "    0, 0, 0,\n",
    "   -0.25, -0.15, 1\n",
    "]\n",
    "plot.display()"
   ]
  },
  {
   "cell_type": "code",
   "execution_count": null,
   "id": "068bddd8",
   "metadata": {},
   "outputs": [],
   "source": []
  }
 ],
 "metadata": {
  "kernelspec": {
   "display_name": "Python 3",
   "language": "python",
   "name": "python3"
  },
  "language_info": {
   "codemirror_mode": {
    "name": "ipython",
    "version": 3
   },
   "file_extension": ".py",
   "mimetype": "text/x-python",
   "name": "python",
   "nbconvert_exporter": "python",
   "pygments_lexer": "ipython3",
   "version": "3.6.9"
  }
 },
 "nbformat": 4,
 "nbformat_minor": 5
}
