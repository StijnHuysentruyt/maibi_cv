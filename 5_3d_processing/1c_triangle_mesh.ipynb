{
 "cells": [
  {
   "cell_type": "markdown",
   "id": "8633d4ba",
   "metadata": {},
   "source": [
    "# Triangle mesh"
   ]
  },
  {
   "cell_type": "code",
   "execution_count": null,
   "id": "dd705c42",
   "metadata": {},
   "outputs": [],
   "source": [
    "import open3d as o3d\n",
    "import numpy as np"
   ]
  },
  {
   "cell_type": "markdown",
   "id": "7d5d9078",
   "metadata": {},
   "source": [
    "## Load the mesh data"
   ]
  },
  {
   "cell_type": "code",
   "execution_count": 1,
   "id": "e7226133",
   "metadata": {},
   "outputs": [
    {
     "name": "stdout",
     "output_type": "stream",
     "text": [
      "Jupyter environment detected. Enabling Open3D WebVisualizer.\n",
      "[Open3D INFO] WebRTC GUI backend enabled.\n",
      "[Open3D INFO] WebRTCWindowSystem: HTTP handshake server disabled.\n"
     ]
    }
   ],
   "source": [
    "dataset = o3d.data.BunnyMesh()\n",
    "mesh = o3d.io.read_triangle_mesh(dataset.path)"
   ]
  },
  {
   "cell_type": "markdown",
   "id": "d02dfd24",
   "metadata": {},
   "source": [
    "## Convert mesh data into numpy arrays\n",
    "\n",
    "The mesh is created by creating **triangles from a list of 3D points**. The `vertices` variable contains these 3D points, while the `triangles` variable tells how these points should be connected into the differen triangles. Each element in the `triangles` list is a 3-tuple that indicates which three elements from `vertices` should be connected to create the corresponding triangle."
   ]
  },
  {
   "cell_type": "code",
   "execution_count": 2,
   "id": "bd7191e6",
   "metadata": {},
   "outputs": [],
   "source": [
    "vertices = np.array(mesh.vertices, np.float32)\n",
    "triangles = np.array(mesh.triangles, np.uint32)"
   ]
  },
  {
   "cell_type": "code",
   "execution_count": 3,
   "id": "fc001154",
   "metadata": {},
   "outputs": [
    {
     "data": {
      "text/plain": [
       "(35947, 3)"
      ]
     },
     "execution_count": 3,
     "metadata": {},
     "output_type": "execute_result"
    }
   ],
   "source": [
    "vertices.shape"
   ]
  },
  {
   "cell_type": "code",
   "execution_count": 4,
   "id": "be2005cf",
   "metadata": {},
   "outputs": [
    {
     "data": {
      "text/plain": [
       "(69451, 3)"
      ]
     },
     "execution_count": 4,
     "metadata": {},
     "output_type": "execute_result"
    }
   ],
   "source": [
    "triangles.shape"
   ]
  },
  {
   "cell_type": "markdown",
   "id": "d446259b",
   "metadata": {},
   "source": [
    "## Plot mesh"
   ]
  },
  {
   "cell_type": "code",
   "execution_count": 5,
   "id": "3a4b4ba8",
   "metadata": {
    "scrolled": false
   },
   "outputs": [
    {
     "data": {
      "application/vnd.jupyter.widget-view+json": {
       "model_id": "6ea887f94a7b4eb089fb78c9d6883429",
       "version_major": 2,
       "version_minor": 0
      },
      "text/plain": [
       "Output()"
      ]
     },
     "metadata": {},
     "output_type": "display_data"
    }
   ],
   "source": [
    "import k3d\n",
    "\n",
    "plot = k3d.plot(camera_auto_fit=False)\n",
    "plot += k3d.mesh(vertices, triangles)\n",
    "\n",
    "plot.camera = [\n",
    "    -0.2, 0.15, 0.3,\n",
    "    0, 0.1, 0,\n",
    "    0, 1, 0\n",
    "]\n",
    "\n",
    "plot.display()"
   ]
  },
  {
   "cell_type": "code",
   "execution_count": null,
   "id": "abc368b0",
   "metadata": {},
   "outputs": [],
   "source": []
  }
 ],
 "metadata": {
  "kernelspec": {
   "display_name": "Python 3",
   "language": "python",
   "name": "python3"
  },
  "language_info": {
   "codemirror_mode": {
    "name": "ipython",
    "version": 3
   },
   "file_extension": ".py",
   "mimetype": "text/x-python",
   "name": "python",
   "nbconvert_exporter": "python",
   "pygments_lexer": "ipython3",
   "version": "3.6.9"
  }
 },
 "nbformat": 4,
 "nbformat_minor": 5
}
