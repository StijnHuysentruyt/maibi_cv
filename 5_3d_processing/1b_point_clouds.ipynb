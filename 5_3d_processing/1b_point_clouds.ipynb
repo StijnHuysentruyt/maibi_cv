{
 "cells": [
  {
   "cell_type": "markdown",
   "id": "44f363bd",
   "metadata": {},
   "source": [
    "# Point cloud"
   ]
  },
  {
   "cell_type": "code",
   "execution_count": 1,
   "id": "9287af40",
   "metadata": {},
   "outputs": [
    {
     "name": "stdout",
     "output_type": "stream",
     "text": [
      "Jupyter environment detected. Enabling Open3D WebVisualizer.\n",
      "[Open3D INFO] WebRTC GUI backend enabled.\n",
      "[Open3D INFO] WebRTCWindowSystem: HTTP handshake server disabled.\n"
     ]
    }
   ],
   "source": [
    "import open3d as o3d\n",
    "import numpy as np"
   ]
  },
  {
   "cell_type": "markdown",
   "id": "1283553c",
   "metadata": {},
   "source": [
    "## Load point cloud data\n",
    "\n",
    "We will use a data sample from the Redwood Living Room dataset contained in the `open3d` library."
   ]
  },
  {
   "cell_type": "code",
   "execution_count": 2,
   "id": "01b5f874",
   "metadata": {},
   "outputs": [],
   "source": [
    "ply_point_cloud = o3d.data.PLYPointCloud()\n",
    "pcd = o3d.io.read_point_cloud(ply_point_cloud.path)"
   ]
  },
  {
   "cell_type": "markdown",
   "id": "35403046",
   "metadata": {},
   "source": [
    "## Convert point cloud data into numpy arrays\n",
    "\n",
    "The `pcd` object contains the 3D coordinates of all points, along with the RGB-values of each point. Our plotting library expects the colors as int-packed RGB values, so we need the function below to convert the colors into this format."
   ]
  },
  {
   "cell_type": "code",
   "execution_count": 3,
   "id": "fbca420b",
   "metadata": {},
   "outputs": [],
   "source": [
    "from lib.utils import pack_rgb"
   ]
  },
  {
   "cell_type": "code",
   "execution_count": 4,
   "id": "4a437327",
   "metadata": {},
   "outputs": [],
   "source": [
    "points = np.asarray(pcd.points, np.float32)\n",
    "colors = pack_rgb(np.asarray(pcd.colors))"
   ]
  },
  {
   "cell_type": "markdown",
   "id": "13f617a4",
   "metadata": {},
   "source": [
    "## Plot the point cloud"
   ]
  },
  {
   "cell_type": "code",
   "execution_count": 5,
   "id": "aa650aab",
   "metadata": {
    "scrolled": false
   },
   "outputs": [
    {
     "data": {
      "application/vnd.jupyter.widget-view+json": {
       "model_id": "4cdbcc9071074647ae0cd27e932fb5cf",
       "version_major": 2,
       "version_minor": 0
      },
      "text/plain": [
       "Output()"
      ]
     },
     "metadata": {},
     "output_type": "display_data"
    }
   ],
   "source": [
    "import k3d\n",
    "\n",
    "\n",
    "plot = k3d.plot(camera_auto_fit=False)\n",
    "plot += k3d.points(points, colors, point_size=0.001, shader=\"flat\")\n",
    "\n",
    "plot.camera = [\n",
    "    3.2, 1.7, -1.0,\n",
    "    2.3, 1.7, 1.6,\n",
    "    0, -1, 0\n",
    "]\n",
    "\n",
    "plot.display()"
   ]
  },
  {
   "cell_type": "code",
   "execution_count": null,
   "id": "2660bef0",
   "metadata": {},
   "outputs": [],
   "source": []
  }
 ],
 "metadata": {
  "kernelspec": {
   "display_name": "Python 3",
   "language": "python",
   "name": "python3"
  },
  "language_info": {
   "codemirror_mode": {
    "name": "ipython",
    "version": 3
   },
   "file_extension": ".py",
   "mimetype": "text/x-python",
   "name": "python",
   "nbconvert_exporter": "python",
   "pygments_lexer": "ipython3",
   "version": "3.6.9"
  }
 },
 "nbformat": 4,
 "nbformat_minor": 5
}
