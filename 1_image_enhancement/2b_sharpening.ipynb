{
 "cells": [
  {
   "cell_type": "markdown",
   "id": "22e8b98f",
   "metadata": {},
   "source": [
    "# Laplacian"
   ]
  },
  {
   "cell_type": "code",
   "execution_count": 2,
   "id": "363124ab",
   "metadata": {},
   "outputs": [
    {
     "data": {
      "application/vnd.jupyter.widget-view+json": {
       "model_id": "09769c1710524c7eb47c927396eac166",
       "version_major": 2,
       "version_minor": 0
      },
      "text/plain": [
       "interactive(children=(Dropdown(description='img_file', options=('data/verona_color.jpg', 'data/verona_gray.jpg…"
      ]
     },
     "metadata": {},
     "output_type": "display_data"
    }
   ],
   "source": [
    "from lib.widgets import interact_laplacian_kernel\n",
    "\n",
    "interact_laplacian_kernel()"
   ]
  },
  {
   "cell_type": "markdown",
   "id": "bbd0dc1e",
   "metadata": {},
   "source": [
    "# Sharpening filter"
   ]
  },
  {
   "cell_type": "code",
   "execution_count": 3,
   "id": "a1fa1315",
   "metadata": {},
   "outputs": [
    {
     "data": {
      "application/vnd.jupyter.widget-view+json": {
       "model_id": "06e141ba6dbe4428852d69044f9cc94a",
       "version_major": 2,
       "version_minor": 0
      },
      "text/plain": [
       "interactive(children=(Dropdown(description='img_file', options=('data/verona_color.jpg', 'data/verona_gray.jpg…"
      ]
     },
     "metadata": {},
     "output_type": "display_data"
    }
   ],
   "source": [
    "from lib.widgets import interact_sharpening_kernel\n",
    "\n",
    "interact_sharpening_kernel()"
   ]
  },
  {
   "cell_type": "markdown",
   "id": "373aaefc",
   "metadata": {},
   "source": [
    "# Unsharp mask"
   ]
  },
  {
   "cell_type": "code",
   "execution_count": 4,
   "id": "2bcdc4a5",
   "metadata": {},
   "outputs": [
    {
     "data": {
      "application/vnd.jupyter.widget-view+json": {
       "model_id": "18d8f1cf17de46eea12ed1c9e613f0cb",
       "version_major": 2,
       "version_minor": 0
      },
      "text/plain": [
       "interactive(children=(Dropdown(description='img_file', options=('data/verona_color.jpg', 'data/verona_gray.jpg…"
      ]
     },
     "metadata": {},
     "output_type": "display_data"
    }
   ],
   "source": [
    "from lib.widgets import interact_unsharp_mask\n",
    "\n",
    "interact_unsharp_mask()"
   ]
  },
  {
   "cell_type": "markdown",
   "id": "ce0ffb28",
   "metadata": {},
   "source": [
    "# Difference of Gaussians (DoG)"
   ]
  },
  {
   "cell_type": "code",
   "execution_count": 5,
   "id": "e09e6746",
   "metadata": {
    "scrolled": false
   },
   "outputs": [
    {
     "data": {
      "application/vnd.jupyter.widget-view+json": {
       "model_id": "433cb9176f9c437183647de0c6df220c",
       "version_major": 2,
       "version_minor": 0
      },
      "text/plain": [
       "interactive(children=(Dropdown(description='img_file', options=('data/verona_color.jpg', 'data/verona_gray.jpg…"
      ]
     },
     "metadata": {},
     "output_type": "display_data"
    }
   ],
   "source": [
    "from lib.widgets import interact_DoG\n",
    "\n",
    "interact_DoG()"
   ]
  },
  {
   "cell_type": "markdown",
   "id": "ee9b4209",
   "metadata": {},
   "source": [
    "# Sharpening comparison"
   ]
  },
  {
   "cell_type": "code",
   "execution_count": 6,
   "id": "92fb709d",
   "metadata": {},
   "outputs": [
    {
     "data": {
      "application/vnd.jupyter.widget-view+json": {
       "model_id": "87ef1c6deb1c42e48ed0fc424a4758f3",
       "version_major": 2,
       "version_minor": 0
      },
      "text/plain": [
       "interactive(children=(Dropdown(description='img_file', options=('data/verona_color.jpg', 'data/verona_gray.jpg…"
      ]
     },
     "metadata": {},
     "output_type": "display_data"
    }
   ],
   "source": [
    "from lib.widgets import interact_sharpening_with_noise\n",
    "\n",
    "interact_sharpening_with_noise()"
   ]
  },
  {
   "cell_type": "code",
   "execution_count": null,
   "id": "39b24b34",
   "metadata": {},
   "outputs": [],
   "source": []
  }
 ],
 "metadata": {
  "kernelspec": {
   "display_name": "Python 3 (ipykernel)",
   "language": "python",
   "name": "python3"
  },
  "language_info": {
   "codemirror_mode": {
    "name": "ipython",
    "version": 3
   },
   "file_extension": ".py",
   "mimetype": "text/x-python",
   "name": "python",
   "nbconvert_exporter": "python",
   "pygments_lexer": "ipython3",
   "version": "3.9.7"
  }
 },
 "nbformat": 4,
 "nbformat_minor": 5
}
