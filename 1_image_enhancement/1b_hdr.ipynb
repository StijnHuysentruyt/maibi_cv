{
 "cells": [
  {
   "cell_type": "markdown",
   "id": "6ce184d5",
   "metadata": {},
   "source": [
    "# Calculate radiometric response function"
   ]
  },
  {
   "cell_type": "code",
   "execution_count": 1,
   "id": "1045dd65",
   "metadata": {},
   "outputs": [],
   "source": [
    "import cv2\n",
    "import numpy as np\n",
    "import math"
   ]
  },
  {
   "cell_type": "code",
   "execution_count": 2,
   "id": "8dc06412",
   "metadata": {},
   "outputs": [],
   "source": [
    "import pandas as pd\n",
    "\n",
    "df = pd.read_csv('data/taipei/image_list.csv')\n",
    "imgs = np.stack(df['Filename'].apply(lambda img: cv2.imread(f'data/taipei/{img}')))\n",
    "exposure_times = df['exposure'].values"
   ]
  },
  {
   "cell_type": "code",
   "execution_count": 3,
   "id": "ccd381f7",
   "metadata": {
    "scrolled": true
   },
   "outputs": [],
   "source": [
    "def hdr_debvec(imgs, exposure_times, n_sample_per_dim=20):\n",
    "    height, width = imgs.shape[1:3]\n",
    "    width_step = width // n_sample_per_dim\n",
    "    height_step = height // n_sample_per_dim\n",
    "\n",
    "    mask = np.zeros((height, width), dtype=np.bool8)\n",
    "    mask[::height_step, ::width_step] = True\n",
    "\n",
    "    gs = []\n",
    "    for channel in range(imgs.shape[-1]):\n",
    "        Z = imgs[..., mask, channel]\n",
    "\n",
    "        B = [math.log(e, 2) for e in exposure_times]\n",
    "        l = 50  # determines the amount of smoothness\n",
    "        w = [z if z <= 0.5*255 else 255-z for z in range(256)]\n",
    "\n",
    "        g, _ = response_curve_solver(Z, B, l, w)\n",
    "        gs.append(g)\n",
    "    \n",
    "    return np.hstack(gs)"
   ]
  },
  {
   "cell_type": "code",
   "execution_count": 4,
   "id": "97dcc1ca",
   "metadata": {},
   "outputs": [],
   "source": [
    "def response_curve_solver(Z, B, l, w):\n",
    "    n = 256\n",
    "    A = np.zeros(shape=(np.size(Z, 0)*np.size(Z, 1)+n+1, n+np.size(Z, 1)), dtype=np.float32)\n",
    "    b = np.zeros(shape=(np.size(A, 0), 1), dtype=np.float32)\n",
    "\n",
    "    # Include the data−fitting equations\n",
    "    k = 0\n",
    "    for i in range(np.size(Z, 1)):\n",
    "        for j in range(np.size(Z, 0)):\n",
    "            z = int(Z[j][i])\n",
    "            wij = w[z]\n",
    "            A[k][z] = wij\n",
    "            A[k][n+i] = -wij\n",
    "            b[k] = wij*B[j]\n",
    "            k += 1\n",
    "    \n",
    "    # Fix the curve by setting its middle value to 0\n",
    "    A[k][128] = 1\n",
    "    k += 1\n",
    "\n",
    "    # Include the smoothness equations\n",
    "    for i in range(n-1):\n",
    "        A[k][i]   =    l*w[i+1]\n",
    "        A[k][i+1] = -2*l*w[i+1]\n",
    "        A[k][i+2] =    l*w[i+1]\n",
    "        k += 1\n",
    "\n",
    "    # Solve the system using SVD\n",
    "    x = np.linalg.lstsq(A, b, rcond=-1)[0]\n",
    "    g = x[:256]\n",
    "    lE = x[256:]\n",
    "\n",
    "    return g, lE"
   ]
  },
  {
   "cell_type": "code",
   "execution_count": 5,
   "id": "0c25e8bf",
   "metadata": {},
   "outputs": [],
   "source": [
    "response_curve = hdr_debvec(imgs, exposure_times)"
   ]
  },
  {
   "cell_type": "markdown",
   "id": "c6991bd8",
   "metadata": {},
   "source": [
    "# Estimate radiance map"
   ]
  },
  {
   "cell_type": "code",
   "execution_count": 6,
   "id": "2642c456",
   "metadata": {},
   "outputs": [],
   "source": [
    "def construct_radiance_map(imgs, response_curve, exposure_times):\n",
    "    Z = imgs.flatten().reshape(len(imgs), -1, 3)\n",
    "\n",
    "    resp = np.stack([response_curve[Z[..., i], i]\n",
    "                     for i in range(Z.shape[-1])], axis=-1)\n",
    "    ln_t = np.log2(exposure_times)[..., None, None]\n",
    "    w = np.array([z if z <= 0.5*255 else 255 - z\n",
    "                  for z in range(256)])\n",
    "    w_z = w[Z]\n",
    "    acc_e = np.sum(w_z * (resp - ln_t), 0)\n",
    "    acc_w = np.sum(w_z, 0)\n",
    "    acc_w[acc_w <= 0] = 1\n",
    "\n",
    "    return acc_e/acc_w"
   ]
  },
  {
   "cell_type": "code",
   "execution_count": 7,
   "id": "9628e715",
   "metadata": {},
   "outputs": [],
   "source": [
    "def construct_hdr(imgs, response_curve, exposure_times):\n",
    "    E = construct_radiance_map(imgs, response_curve, exposure_times)\n",
    "    return np.reshape(np.exp(E), imgs.shape[1:])"
   ]
  },
  {
   "cell_type": "code",
   "execution_count": 8,
   "id": "ab059336",
   "metadata": {},
   "outputs": [],
   "source": [
    "hdr = construct_hdr(imgs, response_curve, exposure_times)"
   ]
  },
  {
   "cell_type": "code",
   "execution_count": 9,
   "id": "fde969de",
   "metadata": {},
   "outputs": [
    {
     "data": {
      "text/plain": [
       "(510, 768, 3)"
      ]
     },
     "execution_count": 9,
     "metadata": {},
     "output_type": "execute_result"
    }
   ],
   "source": [
    "hdr.shape"
   ]
  },
  {
   "cell_type": "markdown",
   "id": "091f1fe2",
   "metadata": {},
   "source": [
    "# Tone map"
   ]
  },
  {
   "cell_type": "code",
   "execution_count": 10,
   "id": "1109f304",
   "metadata": {},
   "outputs": [
    {
     "ename": "error",
     "evalue": "OpenCV(4.5.5) /Users/runner/work/opencv-python/opencv-python/opencv/modules/photo/src/tonemap.cpp:69: error: (-215:Assertion failed) _src.dims() == 2 && _src.type() == CV_32FC3 in function 'process'\n",
     "output_type": "error",
     "traceback": [
      "\u001b[0;31m---------------------------------------------------------------------------\u001b[0m",
      "\u001b[0;31merror\u001b[0m                                     Traceback (most recent call last)",
      "Input \u001b[0;32mIn [10]\u001b[0m, in \u001b[0;36m<module>\u001b[0;34m\u001b[0m\n\u001b[1;32m      1\u001b[0m tonemap \u001b[38;5;241m=\u001b[39m cv2\u001b[38;5;241m.\u001b[39mcreateTonemapDrago(\u001b[38;5;241m5\u001b[39m)\n\u001b[0;32m----> 2\u001b[0m ldr \u001b[38;5;241m=\u001b[39m \u001b[43mtonemap\u001b[49m\u001b[38;5;241;43m.\u001b[39;49m\u001b[43mprocess\u001b[49m\u001b[43m(\u001b[49m\u001b[43mhdr\u001b[49m\u001b[43m)\u001b[49m \u001b[38;5;241m*\u001b[39m \u001b[38;5;241m255\u001b[39m\n",
      "\u001b[0;31merror\u001b[0m: OpenCV(4.5.5) /Users/runner/work/opencv-python/opencv-python/opencv/modules/photo/src/tonemap.cpp:69: error: (-215:Assertion failed) _src.dims() == 2 && _src.type() == CV_32FC3 in function 'process'\n"
     ]
    }
   ],
   "source": [
    "tonemap = cv2.createTonemapDrago(5)\n",
    "ldr = tonemap.process(hdr) * 255"
   ]
  }
 ],
 "metadata": {
  "kernelspec": {
   "display_name": "Python 3 (ipykernel)",
   "language": "python",
   "name": "python3"
  },
  "language_info": {
   "codemirror_mode": {
    "name": "ipython",
    "version": 3
   },
   "file_extension": ".py",
   "mimetype": "text/x-python",
   "name": "python",
   "nbconvert_exporter": "python",
   "pygments_lexer": "ipython3",
   "version": "3.9.7"
  }
 },
 "nbformat": 4,
 "nbformat_minor": 5
}
