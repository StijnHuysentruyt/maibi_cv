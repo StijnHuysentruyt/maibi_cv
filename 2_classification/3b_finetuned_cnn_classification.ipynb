{
 "cells": [
  {
   "cell_type": "markdown",
   "id": "a7ef0414",
   "metadata": {},
   "source": [
    "# Finetuning a CNN classifier"
   ]
  },
  {
   "cell_type": "markdown",
   "id": "fc0135be",
   "metadata": {},
   "source": [
    "## Create datasets"
   ]
  },
  {
   "cell_type": "code",
   "execution_count": 1,
   "id": "99ef8502",
   "metadata": {},
   "outputs": [],
   "source": [
    "from torchvision.datasets import ImageFolder\n",
    "\n",
    "from lib.cnn_classifiers import train_transform, val_transform\n",
    "\n",
    "\n",
    "train_ds = ImageFolder(\n",
    "    'data/GroZiVitroBasic/',\n",
    "    transform=train_transform\n",
    ")\n",
    "\n",
    "val_ds = ImageFolder(\n",
    "    'data/sodas/queries',\n",
    "    transform=val_transform\n",
    ")"
   ]
  },
  {
   "cell_type": "markdown",
   "id": "06ab9995",
   "metadata": {},
   "source": [
    "## Create data loaders"
   ]
  },
  {
   "cell_type": "code",
   "execution_count": 2,
   "id": "30267a27",
   "metadata": {},
   "outputs": [],
   "source": [
    "batch_size = 60\n",
    "num_workers = 8"
   ]
  },
  {
   "cell_type": "code",
   "execution_count": 3,
   "id": "a3117bb6",
   "metadata": {
    "scrolled": false
   },
   "outputs": [],
   "source": [
    "from torch.utils.data import DataLoader\n",
    "\n",
    "train_loader = DataLoader(\n",
    "    dataset=train_ds,\n",
    "    batch_size=batch_size,\n",
    "    shuffle=True,\n",
    "    num_workers=num_workers,\n",
    ")\n",
    "\n",
    "val_loader = DataLoader(\n",
    "    dataset=val_ds,\n",
    "    batch_size=batch_size,\n",
    "    shuffle=False,\n",
    "    num_workers=num_workers,\n",
    ")"
   ]
  },
  {
   "cell_type": "markdown",
   "id": "405ae489",
   "metadata": {},
   "source": [
    "## Define what should happen in a single training step"
   ]
  },
  {
   "cell_type": "code",
   "execution_count": 1,
   "id": "7f7c0393",
   "metadata": {},
   "outputs": [],
   "source": [
    "from torch import nn\n",
    "import torch.nn.functional as F\n",
    "\n",
    "\n",
    "def run_train_step(model, batch, batch_idx):\n",
    "    imgs, labels = batch\n",
    "\n",
    "    class_logits = model(imgs)\n",
    "\n",
    "    return F.binary_cross_entropy_with_logits(\n",
    "        class_logits,\n",
    "        labels\n",
    "    )"
   ]
  },
  {
   "cell_type": "markdown",
   "id": "69a496f9",
   "metadata": {},
   "source": [
    "## Call the training step on each batch in a training epoch"
   ]
  },
  {
   "cell_type": "code",
   "execution_count": 5,
   "id": "bbb9aa80",
   "metadata": {},
   "outputs": [],
   "source": [
    "def run_train_epoch(model, train_loader, optimizer,\n",
    "                    epoch_idx, writer=None, device='cpu'):\n",
    "    \"\"\"\n",
    "    Run a training epoch.\n",
    "    \"\"\"\n",
    "    # Put model in train mode\n",
    "    model.train()\n",
    "\n",
    "    for batch_idx, train_batch in tqdm(enumerate(train_loader),\n",
    "                                       total=len(train_loader),\n",
    "                                       leave=False, desc='Train batch'):\n",
    "        train_batch = batch_to_device(train_batch, device)\n",
    "        loss = run_train_step(model, train_batch, batch_idx)\n",
    "\n",
    "        optimizer.zero_grad()\n",
    "        loss.backward()\n",
    "        optimizer.step()\n",
    "\n",
    "        # Log the training loss\n",
    "        if writer is not None:\n",
    "            writer.add_scalar(\"Loss/train\", loss, epoch_idx)\n",
    "\n",
    "\n",
    "def batch_to_device(batch, device):\n",
    "    batch[0] = batch[0].to(device)\n",
    "    batch[1] = batch[1].to(device)\n",
    "\n",
    "    return batch"
   ]
  },
  {
   "cell_type": "markdown",
   "id": "63c5785c",
   "metadata": {},
   "source": [
    "## Define what should happen during a *validation epoch*"
   ]
  },
  {
   "cell_type": "code",
   "execution_count": 6,
   "id": "41f4a808",
   "metadata": {},
   "outputs": [],
   "source": [
    "def run_val_epoch(model, val_loader,\n",
    "                  epoch_idx, writer, device='cpu'):\n",
    "    # Put model in eval mode\n",
    "    model.eval()\n",
    "\n",
    "    # Compute query embeddings\n",
    "    sim_mat, q_labels = compute_logits_from_dataloader(model,\n",
    "                                                       val_loader,\n",
    "                                                       device)\n",
    "\n",
    "    # Log average precision\n",
    "    idx_to_class = {\n",
    "        idx: label\n",
    "        for label, idx in val_loader.dataset.class_to_idx.items()\n",
    "    }\n",
    "\n",
    "    for label in g_labels:\n",
    "        ap = calc_ap(label, sim_mat, g_labels, q_labels)\n",
    "        writer.add_scalar(f\"AP_val/{idx_to_class[label]}\", ap, epoch_idx)\n",
    "\n",
    "\n",
    "def compute_logits_from_dataloader(model, data_loader, device='cpu'):\n",
    "    all_logits = []\n",
    "    all_labels = []\n",
    "\n",
    "    for batch_idx, batch in tqdm(enumerate(data_loader),\n",
    "                                 total=len(data_loader),\n",
    "                                 leave=False):\n",
    "        batch = batch_to_device(batch, device)\n",
    "        imgs, labels = batch\n",
    "\n",
    "        with torch.no_grad():\n",
    "            logits = model(imgs)\n",
    "\n",
    "        all_logits.append(logits)\n",
    "        all_labels.append(labels)\n",
    "\n",
    "    all_logits = torch.cat(all_logits).cpu()\n",
    "    all_labels = torch.cat(all_labels).cpu().numpy()\n",
    "\n",
    "    return all_logits, all_labels"
   ]
  },
  {
   "cell_type": "markdown",
   "id": "e2b08ece",
   "metadata": {},
   "source": [
    "## Put everything together in a training loop"
   ]
  },
  {
   "cell_type": "code",
   "execution_count": 7,
   "id": "497eb173",
   "metadata": {},
   "outputs": [],
   "source": [
    "from tqdm.notebook import tqdm\n",
    "from torch.utils.tensorboard import SummaryWriter\n",
    "import torch\n",
    "\n",
    "from lib.metric_learning import match_embeddings\n",
    "from lib.evaluation_metrics import calc_ap\n",
    "\n",
    "\n",
    "def run_training(model, optimizer, train_loader, val_gallery_loader,\n",
    "                 val_query_loader, num_epochs=10):\n",
    "    device = torch.device('cuda' if torch.cuda.is_available() else 'cpu')\n",
    "    model.to(device)\n",
    "\n",
    "    writer = SummaryWriter()\n",
    "\n",
    "    for epoch_idx in tqdm(range(num_epochs), desc='Epoch'):\n",
    "        run_train_epoch(model, train_loader, optimizer,\n",
    "                        epoch_idx, writer, device)\n",
    "        run_val_epoch(model, val_gallery_loader, val_query_loader,\n",
    "                      epoch_idx, writer, device)\n",
    "\n",
    "    writer.flush()\n",
    "    writer.close()"
   ]
  },
  {
   "cell_type": "markdown",
   "id": "bbc2947d",
   "metadata": {},
   "source": [
    "## Start TensorBoard for logging"
   ]
  },
  {
   "cell_type": "code",
   "execution_count": 8,
   "id": "49e77c53",
   "metadata": {},
   "outputs": [
    {
     "data": {
      "text/html": [
       "\n",
       "      <iframe id=\"tensorboard-frame-334a4214db2a8d4e\" width=\"100%\" height=\"800\" frameborder=\"0\">\n",
       "      </iframe>\n",
       "      <script>\n",
       "        (function() {\n",
       "          const frame = document.getElementById(\"tensorboard-frame-334a4214db2a8d4e\");\n",
       "          const url = new URL(\"/\", window.location);\n",
       "          const port = 6006;\n",
       "          if (port) {\n",
       "            url.port = port;\n",
       "          }\n",
       "          frame.src = url;\n",
       "        })();\n",
       "      </script>\n",
       "    "
      ],
      "text/plain": [
       "<IPython.core.display.HTML object>"
      ]
     },
     "metadata": {},
     "output_type": "display_data"
    }
   ],
   "source": [
    "import tensorboard\n",
    "\n",
    "%load_ext tensorboard\n",
    "%tensorboard --logdir runs"
   ]
  },
  {
   "cell_type": "markdown",
   "id": "1605c57c",
   "metadata": {},
   "source": [
    "## Define the model"
   ]
  },
  {
   "cell_type": "code",
   "execution_count": 9,
   "id": "a2281e1e",
   "metadata": {},
   "outputs": [],
   "source": [
    "from lib.cnn_classifiers import get_cnn\n",
    "\n",
    "model = get_cnn('resnet50')\n",
    "\n",
    "# TODO: Replace classification layer with new number of classes\n",
    "raise NotImplementedError\n",
    "\n",
    "for param in model.parameters():\n",
    "    param.requires_grad = False\n",
    "\n",
    "for param in model.layer4.parameters():\n",
    "    param.requires_grad = True\n",
    "\n",
    "# TODO: classifier layer also requires grad"
   ]
  },
  {
   "cell_type": "markdown",
   "id": "4b53c0c3",
   "metadata": {},
   "source": [
    "## Run the training loop"
   ]
  },
  {
   "cell_type": "code",
   "execution_count": null,
   "id": "dd4057f7",
   "metadata": {},
   "outputs": [
    {
     "data": {
      "application/vnd.jupyter.widget-view+json": {
       "model_id": "1b1789e7452947c68003a3b7bad1497e",
       "version_major": 2,
       "version_minor": 0
      },
      "text/plain": [
       "Epoch:   0%|          | 0/50 [00:00<?, ?it/s]"
      ]
     },
     "metadata": {},
     "output_type": "display_data"
    },
    {
     "data": {
      "application/vnd.jupyter.widget-view+json": {
       "model_id": "",
       "version_major": 2,
       "version_minor": 0
      },
      "text/plain": [
       "Train batch:   0%|          | 0/33 [00:00<?, ?it/s]"
      ]
     },
     "metadata": {},
     "output_type": "display_data"
    },
    {
     "data": {
      "application/vnd.jupyter.widget-view+json": {
       "model_id": "",
       "version_major": 2,
       "version_minor": 0
      },
      "text/plain": [
       "  0%|          | 0/1 [00:00<?, ?it/s]"
      ]
     },
     "metadata": {},
     "output_type": "display_data"
    },
    {
     "data": {
      "application/vnd.jupyter.widget-view+json": {
       "model_id": "",
       "version_major": 2,
       "version_minor": 0
      },
      "text/plain": [
       "  0%|          | 0/1 [00:00<?, ?it/s]"
      ]
     },
     "metadata": {},
     "output_type": "display_data"
    },
    {
     "data": {
      "application/vnd.jupyter.widget-view+json": {
       "model_id": "",
       "version_major": 2,
       "version_minor": 0
      },
      "text/plain": [
       "Train batch:   0%|          | 0/33 [00:00<?, ?it/s]"
      ]
     },
     "metadata": {},
     "output_type": "display_data"
    },
    {
     "data": {
      "application/vnd.jupyter.widget-view+json": {
       "model_id": "",
       "version_major": 2,
       "version_minor": 0
      },
      "text/plain": [
       "  0%|          | 0/1 [00:00<?, ?it/s]"
      ]
     },
     "metadata": {},
     "output_type": "display_data"
    },
    {
     "data": {
      "application/vnd.jupyter.widget-view+json": {
       "model_id": "",
       "version_major": 2,
       "version_minor": 0
      },
      "text/plain": [
       "  0%|          | 0/1 [00:00<?, ?it/s]"
      ]
     },
     "metadata": {},
     "output_type": "display_data"
    },
    {
     "data": {
      "application/vnd.jupyter.widget-view+json": {
       "model_id": "",
       "version_major": 2,
       "version_minor": 0
      },
      "text/plain": [
       "Train batch:   0%|          | 0/33 [00:00<?, ?it/s]"
      ]
     },
     "metadata": {},
     "output_type": "display_data"
    },
    {
     "data": {
      "application/vnd.jupyter.widget-view+json": {
       "model_id": "",
       "version_major": 2,
       "version_minor": 0
      },
      "text/plain": [
       "  0%|          | 0/1 [00:00<?, ?it/s]"
      ]
     },
     "metadata": {},
     "output_type": "display_data"
    },
    {
     "data": {
      "application/vnd.jupyter.widget-view+json": {
       "model_id": "",
       "version_major": 2,
       "version_minor": 0
      },
      "text/plain": [
       "  0%|          | 0/1 [00:00<?, ?it/s]"
      ]
     },
     "metadata": {},
     "output_type": "display_data"
    },
    {
     "data": {
      "application/vnd.jupyter.widget-view+json": {
       "model_id": "",
       "version_major": 2,
       "version_minor": 0
      },
      "text/plain": [
       "Train batch:   0%|          | 0/33 [00:00<?, ?it/s]"
      ]
     },
     "metadata": {},
     "output_type": "display_data"
    },
    {
     "data": {
      "application/vnd.jupyter.widget-view+json": {
       "model_id": "",
       "version_major": 2,
       "version_minor": 0
      },
      "text/plain": [
       "  0%|          | 0/1 [00:00<?, ?it/s]"
      ]
     },
     "metadata": {},
     "output_type": "display_data"
    },
    {
     "data": {
      "application/vnd.jupyter.widget-view+json": {
       "model_id": "",
       "version_major": 2,
       "version_minor": 0
      },
      "text/plain": [
       "  0%|          | 0/1 [00:00<?, ?it/s]"
      ]
     },
     "metadata": {},
     "output_type": "display_data"
    },
    {
     "data": {
      "application/vnd.jupyter.widget-view+json": {
       "model_id": "",
       "version_major": 2,
       "version_minor": 0
      },
      "text/plain": [
       "Train batch:   0%|          | 0/33 [00:00<?, ?it/s]"
      ]
     },
     "metadata": {},
     "output_type": "display_data"
    },
    {
     "data": {
      "application/vnd.jupyter.widget-view+json": {
       "model_id": "",
       "version_major": 2,
       "version_minor": 0
      },
      "text/plain": [
       "  0%|          | 0/1 [00:00<?, ?it/s]"
      ]
     },
     "metadata": {},
     "output_type": "display_data"
    },
    {
     "data": {
      "application/vnd.jupyter.widget-view+json": {
       "model_id": "",
       "version_major": 2,
       "version_minor": 0
      },
      "text/plain": [
       "  0%|          | 0/1 [00:00<?, ?it/s]"
      ]
     },
     "metadata": {},
     "output_type": "display_data"
    },
    {
     "data": {
      "application/vnd.jupyter.widget-view+json": {
       "model_id": "",
       "version_major": 2,
       "version_minor": 0
      },
      "text/plain": [
       "Train batch:   0%|          | 0/33 [00:00<?, ?it/s]"
      ]
     },
     "metadata": {},
     "output_type": "display_data"
    },
    {
     "data": {
      "application/vnd.jupyter.widget-view+json": {
       "model_id": "",
       "version_major": 2,
       "version_minor": 0
      },
      "text/plain": [
       "  0%|          | 0/1 [00:00<?, ?it/s]"
      ]
     },
     "metadata": {},
     "output_type": "display_data"
    },
    {
     "data": {
      "application/vnd.jupyter.widget-view+json": {
       "model_id": "",
       "version_major": 2,
       "version_minor": 0
      },
      "text/plain": [
       "  0%|          | 0/1 [00:00<?, ?it/s]"
      ]
     },
     "metadata": {},
     "output_type": "display_data"
    },
    {
     "data": {
      "application/vnd.jupyter.widget-view+json": {
       "model_id": "",
       "version_major": 2,
       "version_minor": 0
      },
      "text/plain": [
       "Train batch:   0%|          | 0/33 [00:00<?, ?it/s]"
      ]
     },
     "metadata": {},
     "output_type": "display_data"
    },
    {
     "data": {
      "application/vnd.jupyter.widget-view+json": {
       "model_id": "",
       "version_major": 2,
       "version_minor": 0
      },
      "text/plain": [
       "  0%|          | 0/1 [00:00<?, ?it/s]"
      ]
     },
     "metadata": {},
     "output_type": "display_data"
    },
    {
     "data": {
      "application/vnd.jupyter.widget-view+json": {
       "model_id": "",
       "version_major": 2,
       "version_minor": 0
      },
      "text/plain": [
       "  0%|          | 0/1 [00:00<?, ?it/s]"
      ]
     },
     "metadata": {},
     "output_type": "display_data"
    },
    {
     "data": {
      "application/vnd.jupyter.widget-view+json": {
       "model_id": "ffc6284d25a94190978035e5029e90c1",
       "version_major": 2,
       "version_minor": 0
      },
      "text/plain": [
       "Train batch:   0%|          | 0/33 [00:00<?, ?it/s]"
      ]
     },
     "metadata": {},
     "output_type": "display_data"
    }
   ],
   "source": [
    "from torch.optim import SGD\n",
    "\n",
    "# TODO: parameters of classifier layer also need to be optimized\n",
    "optimizer = SGD(model.layer4.parameters(), lr=0.1)\n",
    "\n",
    "run_training(model, optimizer, train_loader,\n",
    "             val_gallery_loader, val_query_loader,\n",
    "             num_epochs=50)"
   ]
  },
  {
   "cell_type": "code",
   "execution_count": null,
   "id": "895639da",
   "metadata": {},
   "outputs": [],
   "source": [
    "%debug"
   ]
  },
  {
   "cell_type": "markdown",
   "id": "d2ef4d6e",
   "metadata": {},
   "source": [
    "## Save the trained model"
   ]
  },
  {
   "cell_type": "code",
   "execution_count": null,
   "id": "1214420d",
   "metadata": {},
   "outputs": [],
   "source": [
    "state_dict = model.state_dict()\n",
    "torch.save(state_dict, 'finetuned_embedding.pth')"
   ]
  },
  {
   "cell_type": "code",
   "execution_count": null,
   "id": "53149c56",
   "metadata": {},
   "outputs": [],
   "source": []
  }
 ],
 "metadata": {
  "kernelspec": {
   "display_name": "Python 3",
   "language": "python",
   "name": "python3"
  },
  "language_info": {
   "codemirror_mode": {
    "name": "ipython",
    "version": 3
   },
   "file_extension": ".py",
   "mimetype": "text/x-python",
   "name": "python",
   "nbconvert_exporter": "python",
   "pygments_lexer": "ipython3",
   "version": "3.6.9"
  }
 },
 "nbformat": 4,
 "nbformat_minor": 5
}
