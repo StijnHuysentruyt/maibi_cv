{
 "cells": [
  {
   "cell_type": "markdown",
   "id": "a7ef0414",
   "metadata": {},
   "source": [
    "# Transfer learning a CNN classifier\n",
    "\n",
    "The pretrained CNN classifiers are clearly already capable of extracting some meaningful information out of an input image. However, they are not suitable as-is for our use-case. The classifiers do not contain any of the classes that we are interested in. To solve this, we will **replace the final classification layer** with a  layer that outputs the correct number of classes (four in our case: CocaCola, Fanta, Pepsi and Sprite). Next, we train that layer - along with the final layers of the network - on our training data."
   ]
  },
  {
   "cell_type": "markdown",
   "id": "fc0135be",
   "metadata": {},
   "source": [
    "## Create datasets\n",
    "\n",
    "As usual, we want to validate our model on unseen data. As such, we need two data sets.\n",
    "\n",
    "Think of a PyTorch `Dataset` simply as a list of all items that are present in your dataset. For example, you can index a `Dataset` instance using square bracket notation and you can ask the number of items in the dataset using `len()`. In our case, such an item consists of an image and the corresponding class label.\n",
    "\n",
    "When your data has a rather unconventional structure, you will need to write your own sub-class of `Dataset`. Our data, however, is clearly structured: all images are inside a folder that has the name of the class. In such a case, we can make use of `ImageFolder` to create our `Dataset` object."
   ]
  },
  {
   "cell_type": "code",
   "execution_count": 1,
   "id": "99ef8502",
   "metadata": {},
   "outputs": [],
   "source": [
    "from torchvision.datasets import ImageFolder\n",
    "\n",
    "from lib.cnn_classifiers import train_transform, val_transform\n",
    "\n",
    "\n",
    "train_ds = ImageFolder(\n",
    "    'data/sodas/train/',\n",
    "    transform=train_transform\n",
    ")\n",
    "\n",
    "val_ds = ImageFolder(\n",
    "    'data/sodas/query/',\n",
    "    transform=val_transform\n",
    ")"
   ]
  },
  {
   "cell_type": "markdown",
   "id": "06ab9995",
   "metadata": {},
   "source": [
    "## Create data loaders\n",
    "\n",
    "During training, we will pass **batches** of data through the network. These batches are created by `DataLoader`s. The data loading process is rather expensive, as it requires lots of IO-operations and often also includes computing image transformations. If we would do this one image at a time, we will create a serious bottleneck when each batch is created.\n",
    "\n",
    "To avoid such a bottleneck, `DataLoader`s run **multiple threads**. Each of these threads will **take samples from the dataset** and perform the IO-operations and image transformations. With `num_workers`, you can configure the number of threads you want to use. A sane choice is **the number of CPUs on your device**.\n",
    "\n",
    "We create a data loader for both datasets."
   ]
  },
  {
   "cell_type": "code",
   "execution_count": 2,
   "id": "30267a27",
   "metadata": {},
   "outputs": [],
   "source": [
    "batch_size = 12  # The number of images in each batch\n",
    "num_workers = 12  # Use the number of CPUs here"
   ]
  },
  {
   "cell_type": "code",
   "execution_count": 3,
   "id": "a3117bb6",
   "metadata": {
    "scrolled": false
   },
   "outputs": [],
   "source": [
    "from torch.utils.data import DataLoader\n",
    "\n",
    "train_loader = DataLoader(\n",
    "    dataset=train_ds,\n",
    "    batch_size=batch_size,\n",
    "    shuffle=True,\n",
    "    num_workers=num_workers,\n",
    ")\n",
    "\n",
    "val_loader = DataLoader(\n",
    "    dataset=val_ds,\n",
    "    batch_size=batch_size,\n",
    "    shuffle=False,\n",
    "    num_workers=num_workers,\n",
    ")"
   ]
  },
  {
   "cell_type": "markdown",
   "id": "405ae489",
   "metadata": {},
   "source": [
    "## Define what should happen in a single training step\n",
    "\n",
    "A training loop consists of multiple training epochs and a training epoch consists of multiple training steps. That's where the most important calculation happens: you define **how to calculate the loss**. For classification problems, **cross-entropy loss** is frequently used. We will use it here as well."
   ]
  },
  {
   "cell_type": "code",
   "execution_count": 4,
   "id": "7f7c0393",
   "metadata": {},
   "outputs": [],
   "source": [
    "from torch import nn\n",
    "import torch.nn.functional as F\n",
    "\n",
    "\n",
    "def run_train_step(model, batch, batch_idx, num_classes):\n",
    "    imgs, labels = batch\n",
    "\n",
    "    # When we pass these \"logits\" through a softmax function, we will get a \"probability distribution\"\n",
    "    # over all classes.\n",
    "    class_logits = model(imgs)\n",
    "\n",
    "    # Convert the integer labels to one-hot encoded vectors, which is needed to compute CEL\n",
    "    one_hot_targets = F.one_hot(labels, num_classes)\n",
    "\n",
    "    return F.binary_cross_entropy_with_logits(\n",
    "        class_logits,\n",
    "        one_hot_targets.float()  # .float() Necessary for CEL computation\n",
    "    )"
   ]
  },
  {
   "cell_type": "markdown",
   "id": "69a496f9",
   "metadata": {},
   "source": [
    "## Call the training step on each batch in a training epoch\n",
    "\n",
    "Now that we have our smallest step in the training loop, we can put it into an entire training **epoch**. When the epoch is over, the neural network will have seen each training sample once."
   ]
  },
  {
   "cell_type": "code",
   "execution_count": 5,
   "id": "bbb9aa80",
   "metadata": {},
   "outputs": [],
   "source": [
    "def run_train_epoch(model, train_loader, optimizer,\n",
    "                    epoch_idx, writer=None, device='cpu'):\n",
    "    \"\"\"\n",
    "    Run a training epoch.\n",
    "    \"\"\"\n",
    "    # Put model in train mode\n",
    "    model.train()\n",
    "\n",
    "    num_classes = len(train_loader.dataset.classes)\n",
    "\n",
    "    for batch_idx, train_batch in tqdm(enumerate(train_loader),\n",
    "                                       total=len(train_loader),\n",
    "                                       leave=False, desc='Train batch'):\n",
    "        train_batch = batch_to_device(train_batch, device)\n",
    "        loss = run_train_step(model, train_batch, batch_idx,\n",
    "                              num_classes)\n",
    "\n",
    "        optimizer.zero_grad()\n",
    "        loss.backward()\n",
    "        optimizer.step()\n",
    "\n",
    "        # Log the training loss\n",
    "        if writer is not None:\n",
    "            writer.add_scalar(\"Loss/train\", loss, epoch_idx)\n",
    "\n",
    "\n",
    "def batch_to_device(batch, device):\n",
    "    batch[0] = batch[0].to(device)\n",
    "    batch[1] = batch[1].to(device)\n",
    "\n",
    "    return batch"
   ]
  },
  {
   "cell_type": "markdown",
   "id": "63c5785c",
   "metadata": {},
   "source": [
    "## Define what should happen during a *validation epoch*\n",
    "\n",
    "Of course, we want to check how well our network performs on **unseen** data. Therefore, we will also add a **validation loop** to our training.\n",
    "\n",
    "As mentioned before, applying softmax to the logits that the network returns, will yield a sort of probability distribution over all class labels. For each query, such a probability distribution can thus be formed. This is actually also a **similarity matrix**, like the one we have seen in the first notebook."
   ]
  },
  {
   "cell_type": "code",
   "execution_count": 6,
   "id": "41f4a808",
   "metadata": {},
   "outputs": [],
   "source": [
    "import numpy as np\n",
    "\n",
    "def run_val_epoch(model, val_loader, epoch_idx, writer, device='cpu'):\n",
    "    # Put model in eval mode\n",
    "    model.eval()\n",
    "\n",
    "    logits, q_labels = compute_logits_from_dataloader(\n",
    "        model,\n",
    "        val_loader,\n",
    "        device\n",
    "    )\n",
    "    \n",
    "    # Compute similarity matrix by applying softmax to logits\n",
    "    sim_mat = F.softmax(logits, dim=1)\n",
    "\n",
    "    # Log average precision\n",
    "    idx_to_class = {\n",
    "        idx: class_name\n",
    "        for class_name, idx in val_loader.dataset.class_to_idx.items()\n",
    "    }\n",
    "\n",
    "    # Create an array with the labels (indices) in the dataset\n",
    "    uniq_labels = np.array(list(idx_to_class))\n",
    "\n",
    "    for label in uniq_labels:\n",
    "        ap = calc_ap(label, sim_mat, uniq_labels, q_labels)\n",
    "        writer.add_scalar(f\"AP_val/{idx_to_class[label]}\", ap, epoch_idx)\n",
    "\n",
    "\n",
    "def compute_logits_from_dataloader(model, data_loader, device='cpu'):\n",
    "    all_logits = []\n",
    "    all_labels = []\n",
    "\n",
    "    for batch_idx, batch in tqdm(enumerate(data_loader),\n",
    "                                 total=len(data_loader),\n",
    "                                 leave=False):\n",
    "        batch = batch_to_device(batch, device)\n",
    "        imgs, labels = batch\n",
    "\n",
    "        with torch.no_grad():\n",
    "            logits = model(imgs)\n",
    "\n",
    "        all_logits.append(logits)\n",
    "        all_labels.append(labels)\n",
    "\n",
    "    all_logits = torch.cat(all_logits).cpu()\n",
    "    all_labels = torch.cat(all_labels).cpu().numpy()\n",
    "\n",
    "    return all_logits, all_labels"
   ]
  },
  {
   "cell_type": "markdown",
   "id": "e2b08ece",
   "metadata": {},
   "source": [
    "## Put everything together in a training loop"
   ]
  },
  {
   "cell_type": "code",
   "execution_count": 7,
   "id": "497eb173",
   "metadata": {},
   "outputs": [],
   "source": [
    "from tqdm.notebook import tqdm\n",
    "from torch.utils.tensorboard import SummaryWriter\n",
    "import torch\n",
    "\n",
    "from lib.metric_learning import match_embeddings\n",
    "from lib.evaluation_metrics import calc_ap\n",
    "\n",
    "\n",
    "def run_training(model, optimizer, train_loader, val_loader, num_epochs=10):\n",
    "    device = torch.device('cuda' if torch.cuda.is_available() else 'cpu')\n",
    "    model.to(device)\n",
    "\n",
    "    writer = SummaryWriter()\n",
    "\n",
    "    for epoch_idx in tqdm(range(num_epochs), desc='Epoch'):\n",
    "        run_train_epoch(model, train_loader, optimizer,\n",
    "                        epoch_idx, writer, device)\n",
    "        run_val_epoch(model, val_loader, epoch_idx, writer,\n",
    "                      device)\n",
    "\n",
    "    writer.flush()\n",
    "    writer.close()"
   ]
  },
  {
   "cell_type": "markdown",
   "id": "bbc2947d",
   "metadata": {},
   "source": [
    "## Start TensorBoard for logging"
   ]
  },
  {
   "cell_type": "code",
   "execution_count": 8,
   "id": "49e77c53",
   "metadata": {},
   "outputs": [
    {
     "data": {
      "text/plain": [
       "Reusing TensorBoard on port 6006 (pid 24558), started 0:18:54 ago. (Use '!kill 24558' to kill it.)"
      ]
     },
     "metadata": {},
     "output_type": "display_data"
    },
    {
     "data": {
      "text/html": [
       "\n",
       "      <iframe id=\"tensorboard-frame-88baff0883045ab9\" width=\"100%\" height=\"800\" frameborder=\"0\">\n",
       "      </iframe>\n",
       "      <script>\n",
       "        (function() {\n",
       "          const frame = document.getElementById(\"tensorboard-frame-88baff0883045ab9\");\n",
       "          const url = new URL(\"/\", window.location);\n",
       "          const port = 6006;\n",
       "          if (port) {\n",
       "            url.port = port;\n",
       "          }\n",
       "          frame.src = url;\n",
       "        })();\n",
       "      </script>\n",
       "    "
      ],
      "text/plain": [
       "<IPython.core.display.HTML object>"
      ]
     },
     "metadata": {},
     "output_type": "display_data"
    }
   ],
   "source": [
    "import tensorboard\n",
    "\n",
    "%load_ext tensorboard\n",
    "%tensorboard --logdir runs"
   ]
  },
  {
   "cell_type": "markdown",
   "id": "1605c57c",
   "metadata": {},
   "source": [
    "## Define the model"
   ]
  },
  {
   "cell_type": "code",
   "execution_count": 9,
   "id": "2a5a753c",
   "metadata": {
    "scrolled": true
   },
   "outputs": [],
   "source": [
    "from lib.cnn_classifiers import get_cnn_clf, get_top_parameters\n",
    "\n",
    "\n",
    "model = get_cnn_clf(\"resnet50\", num_classes=4)\n",
    "\n",
    "# Get the parameters at the end of the network\n",
    "# These are the ones we will be training\n",
    "top_parameters = get_top_parameters(model)\n",
    "\n",
    "# Freeze all parameters\n",
    "for param in model.parameters():\n",
    "    param.requires_grad = False\n",
    "\n",
    "# Now unfreeze the top ones\n",
    "for param in top_parameters:\n",
    "    param.requires_grad = True"
   ]
  },
  {
   "cell_type": "markdown",
   "id": "4b53c0c3",
   "metadata": {},
   "source": [
    "## Run the training loop"
   ]
  },
  {
   "cell_type": "code",
   "execution_count": 10,
   "id": "dd4057f7",
   "metadata": {
    "scrolled": true
   },
   "outputs": [
    {
     "data": {
      "application/vnd.jupyter.widget-view+json": {
       "model_id": "bc5f25451eca45bdb5d017043d0ff7e3",
       "version_major": 2,
       "version_minor": 0
      },
      "text/plain": [
       "Epoch:   0%|          | 0/25 [00:00<?, ?it/s]"
      ]
     },
     "metadata": {},
     "output_type": "display_data"
    },
    {
     "data": {
      "application/vnd.jupyter.widget-view+json": {
       "model_id": "",
       "version_major": 2,
       "version_minor": 0
      },
      "text/plain": [
       "Train batch:   0%|          | 0/10 [00:00<?, ?it/s]"
      ]
     },
     "metadata": {},
     "output_type": "display_data"
    },
    {
     "data": {
      "application/vnd.jupyter.widget-view+json": {
       "model_id": "",
       "version_major": 2,
       "version_minor": 0
      },
      "text/plain": [
       "  0%|          | 0/7 [00:00<?, ?it/s]"
      ]
     },
     "metadata": {},
     "output_type": "display_data"
    },
    {
     "data": {
      "application/vnd.jupyter.widget-view+json": {
       "model_id": "",
       "version_major": 2,
       "version_minor": 0
      },
      "text/plain": [
       "Train batch:   0%|          | 0/10 [00:00<?, ?it/s]"
      ]
     },
     "metadata": {},
     "output_type": "display_data"
    },
    {
     "data": {
      "application/vnd.jupyter.widget-view+json": {
       "model_id": "",
       "version_major": 2,
       "version_minor": 0
      },
      "text/plain": [
       "  0%|          | 0/7 [00:00<?, ?it/s]"
      ]
     },
     "metadata": {},
     "output_type": "display_data"
    },
    {
     "data": {
      "application/vnd.jupyter.widget-view+json": {
       "model_id": "",
       "version_major": 2,
       "version_minor": 0
      },
      "text/plain": [
       "Train batch:   0%|          | 0/10 [00:00<?, ?it/s]"
      ]
     },
     "metadata": {},
     "output_type": "display_data"
    },
    {
     "data": {
      "application/vnd.jupyter.widget-view+json": {
       "model_id": "",
       "version_major": 2,
       "version_minor": 0
      },
      "text/plain": [
       "  0%|          | 0/7 [00:00<?, ?it/s]"
      ]
     },
     "metadata": {},
     "output_type": "display_data"
    },
    {
     "data": {
      "application/vnd.jupyter.widget-view+json": {
       "model_id": "",
       "version_major": 2,
       "version_minor": 0
      },
      "text/plain": [
       "Train batch:   0%|          | 0/10 [00:00<?, ?it/s]"
      ]
     },
     "metadata": {},
     "output_type": "display_data"
    },
    {
     "data": {
      "application/vnd.jupyter.widget-view+json": {
       "model_id": "",
       "version_major": 2,
       "version_minor": 0
      },
      "text/plain": [
       "  0%|          | 0/7 [00:00<?, ?it/s]"
      ]
     },
     "metadata": {},
     "output_type": "display_data"
    },
    {
     "data": {
      "application/vnd.jupyter.widget-view+json": {
       "model_id": "",
       "version_major": 2,
       "version_minor": 0
      },
      "text/plain": [
       "Train batch:   0%|          | 0/10 [00:00<?, ?it/s]"
      ]
     },
     "metadata": {},
     "output_type": "display_data"
    },
    {
     "data": {
      "application/vnd.jupyter.widget-view+json": {
       "model_id": "",
       "version_major": 2,
       "version_minor": 0
      },
      "text/plain": [
       "  0%|          | 0/7 [00:00<?, ?it/s]"
      ]
     },
     "metadata": {},
     "output_type": "display_data"
    },
    {
     "data": {
      "application/vnd.jupyter.widget-view+json": {
       "model_id": "",
       "version_major": 2,
       "version_minor": 0
      },
      "text/plain": [
       "Train batch:   0%|          | 0/10 [00:00<?, ?it/s]"
      ]
     },
     "metadata": {},
     "output_type": "display_data"
    },
    {
     "data": {
      "application/vnd.jupyter.widget-view+json": {
       "model_id": "",
       "version_major": 2,
       "version_minor": 0
      },
      "text/plain": [
       "  0%|          | 0/7 [00:00<?, ?it/s]"
      ]
     },
     "metadata": {},
     "output_type": "display_data"
    },
    {
     "data": {
      "application/vnd.jupyter.widget-view+json": {
       "model_id": "",
       "version_major": 2,
       "version_minor": 0
      },
      "text/plain": [
       "Train batch:   0%|          | 0/10 [00:00<?, ?it/s]"
      ]
     },
     "metadata": {},
     "output_type": "display_data"
    },
    {
     "data": {
      "application/vnd.jupyter.widget-view+json": {
       "model_id": "",
       "version_major": 2,
       "version_minor": 0
      },
      "text/plain": [
       "  0%|          | 0/7 [00:00<?, ?it/s]"
      ]
     },
     "metadata": {},
     "output_type": "display_data"
    },
    {
     "data": {
      "application/vnd.jupyter.widget-view+json": {
       "model_id": "",
       "version_major": 2,
       "version_minor": 0
      },
      "text/plain": [
       "Train batch:   0%|          | 0/10 [00:00<?, ?it/s]"
      ]
     },
     "metadata": {},
     "output_type": "display_data"
    },
    {
     "data": {
      "application/vnd.jupyter.widget-view+json": {
       "model_id": "",
       "version_major": 2,
       "version_minor": 0
      },
      "text/plain": [
       "  0%|          | 0/7 [00:00<?, ?it/s]"
      ]
     },
     "metadata": {},
     "output_type": "display_data"
    },
    {
     "data": {
      "application/vnd.jupyter.widget-view+json": {
       "model_id": "",
       "version_major": 2,
       "version_minor": 0
      },
      "text/plain": [
       "Train batch:   0%|          | 0/10 [00:00<?, ?it/s]"
      ]
     },
     "metadata": {},
     "output_type": "display_data"
    },
    {
     "data": {
      "application/vnd.jupyter.widget-view+json": {
       "model_id": "",
       "version_major": 2,
       "version_minor": 0
      },
      "text/plain": [
       "  0%|          | 0/7 [00:00<?, ?it/s]"
      ]
     },
     "metadata": {},
     "output_type": "display_data"
    },
    {
     "data": {
      "application/vnd.jupyter.widget-view+json": {
       "model_id": "",
       "version_major": 2,
       "version_minor": 0
      },
      "text/plain": [
       "Train batch:   0%|          | 0/10 [00:00<?, ?it/s]"
      ]
     },
     "metadata": {},
     "output_type": "display_data"
    },
    {
     "data": {
      "application/vnd.jupyter.widget-view+json": {
       "model_id": "",
       "version_major": 2,
       "version_minor": 0
      },
      "text/plain": [
       "  0%|          | 0/7 [00:00<?, ?it/s]"
      ]
     },
     "metadata": {},
     "output_type": "display_data"
    },
    {
     "data": {
      "application/vnd.jupyter.widget-view+json": {
       "model_id": "",
       "version_major": 2,
       "version_minor": 0
      },
      "text/plain": [
       "Train batch:   0%|          | 0/10 [00:00<?, ?it/s]"
      ]
     },
     "metadata": {},
     "output_type": "display_data"
    },
    {
     "data": {
      "application/vnd.jupyter.widget-view+json": {
       "model_id": "",
       "version_major": 2,
       "version_minor": 0
      },
      "text/plain": [
       "  0%|          | 0/7 [00:00<?, ?it/s]"
      ]
     },
     "metadata": {},
     "output_type": "display_data"
    },
    {
     "data": {
      "application/vnd.jupyter.widget-view+json": {
       "model_id": "",
       "version_major": 2,
       "version_minor": 0
      },
      "text/plain": [
       "Train batch:   0%|          | 0/10 [00:00<?, ?it/s]"
      ]
     },
     "metadata": {},
     "output_type": "display_data"
    },
    {
     "data": {
      "application/vnd.jupyter.widget-view+json": {
       "model_id": "",
       "version_major": 2,
       "version_minor": 0
      },
      "text/plain": [
       "  0%|          | 0/7 [00:00<?, ?it/s]"
      ]
     },
     "metadata": {},
     "output_type": "display_data"
    },
    {
     "data": {
      "application/vnd.jupyter.widget-view+json": {
       "model_id": "",
       "version_major": 2,
       "version_minor": 0
      },
      "text/plain": [
       "Train batch:   0%|          | 0/10 [00:00<?, ?it/s]"
      ]
     },
     "metadata": {},
     "output_type": "display_data"
    },
    {
     "data": {
      "application/vnd.jupyter.widget-view+json": {
       "model_id": "",
       "version_major": 2,
       "version_minor": 0
      },
      "text/plain": [
       "  0%|          | 0/7 [00:00<?, ?it/s]"
      ]
     },
     "metadata": {},
     "output_type": "display_data"
    },
    {
     "data": {
      "application/vnd.jupyter.widget-view+json": {
       "model_id": "",
       "version_major": 2,
       "version_minor": 0
      },
      "text/plain": [
       "Train batch:   0%|          | 0/10 [00:00<?, ?it/s]"
      ]
     },
     "metadata": {},
     "output_type": "display_data"
    },
    {
     "data": {
      "application/vnd.jupyter.widget-view+json": {
       "model_id": "",
       "version_major": 2,
       "version_minor": 0
      },
      "text/plain": [
       "  0%|          | 0/7 [00:00<?, ?it/s]"
      ]
     },
     "metadata": {},
     "output_type": "display_data"
    },
    {
     "data": {
      "application/vnd.jupyter.widget-view+json": {
       "model_id": "",
       "version_major": 2,
       "version_minor": 0
      },
      "text/plain": [
       "Train batch:   0%|          | 0/10 [00:00<?, ?it/s]"
      ]
     },
     "metadata": {},
     "output_type": "display_data"
    },
    {
     "data": {
      "application/vnd.jupyter.widget-view+json": {
       "model_id": "",
       "version_major": 2,
       "version_minor": 0
      },
      "text/plain": [
       "  0%|          | 0/7 [00:00<?, ?it/s]"
      ]
     },
     "metadata": {},
     "output_type": "display_data"
    },
    {
     "data": {
      "application/vnd.jupyter.widget-view+json": {
       "model_id": "",
       "version_major": 2,
       "version_minor": 0
      },
      "text/plain": [
       "Train batch:   0%|          | 0/10 [00:00<?, ?it/s]"
      ]
     },
     "metadata": {},
     "output_type": "display_data"
    },
    {
     "data": {
      "application/vnd.jupyter.widget-view+json": {
       "model_id": "",
       "version_major": 2,
       "version_minor": 0
      },
      "text/plain": [
       "  0%|          | 0/7 [00:00<?, ?it/s]"
      ]
     },
     "metadata": {},
     "output_type": "display_data"
    },
    {
     "data": {
      "application/vnd.jupyter.widget-view+json": {
       "model_id": "",
       "version_major": 2,
       "version_minor": 0
      },
      "text/plain": [
       "Train batch:   0%|          | 0/10 [00:00<?, ?it/s]"
      ]
     },
     "metadata": {},
     "output_type": "display_data"
    },
    {
     "data": {
      "application/vnd.jupyter.widget-view+json": {
       "model_id": "",
       "version_major": 2,
       "version_minor": 0
      },
      "text/plain": [
       "  0%|          | 0/7 [00:00<?, ?it/s]"
      ]
     },
     "metadata": {},
     "output_type": "display_data"
    },
    {
     "data": {
      "application/vnd.jupyter.widget-view+json": {
       "model_id": "",
       "version_major": 2,
       "version_minor": 0
      },
      "text/plain": [
       "Train batch:   0%|          | 0/10 [00:00<?, ?it/s]"
      ]
     },
     "metadata": {},
     "output_type": "display_data"
    },
    {
     "data": {
      "application/vnd.jupyter.widget-view+json": {
       "model_id": "",
       "version_major": 2,
       "version_minor": 0
      },
      "text/plain": [
       "  0%|          | 0/7 [00:00<?, ?it/s]"
      ]
     },
     "metadata": {},
     "output_type": "display_data"
    },
    {
     "data": {
      "application/vnd.jupyter.widget-view+json": {
       "model_id": "",
       "version_major": 2,
       "version_minor": 0
      },
      "text/plain": [
       "Train batch:   0%|          | 0/10 [00:00<?, ?it/s]"
      ]
     },
     "metadata": {},
     "output_type": "display_data"
    },
    {
     "data": {
      "application/vnd.jupyter.widget-view+json": {
       "model_id": "",
       "version_major": 2,
       "version_minor": 0
      },
      "text/plain": [
       "  0%|          | 0/7 [00:00<?, ?it/s]"
      ]
     },
     "metadata": {},
     "output_type": "display_data"
    },
    {
     "data": {
      "application/vnd.jupyter.widget-view+json": {
       "model_id": "",
       "version_major": 2,
       "version_minor": 0
      },
      "text/plain": [
       "Train batch:   0%|          | 0/10 [00:00<?, ?it/s]"
      ]
     },
     "metadata": {},
     "output_type": "display_data"
    },
    {
     "data": {
      "application/vnd.jupyter.widget-view+json": {
       "model_id": "",
       "version_major": 2,
       "version_minor": 0
      },
      "text/plain": [
       "  0%|          | 0/7 [00:00<?, ?it/s]"
      ]
     },
     "metadata": {},
     "output_type": "display_data"
    },
    {
     "data": {
      "application/vnd.jupyter.widget-view+json": {
       "model_id": "",
       "version_major": 2,
       "version_minor": 0
      },
      "text/plain": [
       "Train batch:   0%|          | 0/10 [00:00<?, ?it/s]"
      ]
     },
     "metadata": {},
     "output_type": "display_data"
    },
    {
     "data": {
      "application/vnd.jupyter.widget-view+json": {
       "model_id": "",
       "version_major": 2,
       "version_minor": 0
      },
      "text/plain": [
       "  0%|          | 0/7 [00:00<?, ?it/s]"
      ]
     },
     "metadata": {},
     "output_type": "display_data"
    },
    {
     "data": {
      "application/vnd.jupyter.widget-view+json": {
       "model_id": "",
       "version_major": 2,
       "version_minor": 0
      },
      "text/plain": [
       "Train batch:   0%|          | 0/10 [00:00<?, ?it/s]"
      ]
     },
     "metadata": {},
     "output_type": "display_data"
    },
    {
     "data": {
      "application/vnd.jupyter.widget-view+json": {
       "model_id": "",
       "version_major": 2,
       "version_minor": 0
      },
      "text/plain": [
       "  0%|          | 0/7 [00:00<?, ?it/s]"
      ]
     },
     "metadata": {},
     "output_type": "display_data"
    },
    {
     "data": {
      "application/vnd.jupyter.widget-view+json": {
       "model_id": "",
       "version_major": 2,
       "version_minor": 0
      },
      "text/plain": [
       "Train batch:   0%|          | 0/10 [00:00<?, ?it/s]"
      ]
     },
     "metadata": {},
     "output_type": "display_data"
    },
    {
     "data": {
      "application/vnd.jupyter.widget-view+json": {
       "model_id": "",
       "version_major": 2,
       "version_minor": 0
      },
      "text/plain": [
       "  0%|          | 0/7 [00:00<?, ?it/s]"
      ]
     },
     "metadata": {},
     "output_type": "display_data"
    },
    {
     "data": {
      "application/vnd.jupyter.widget-view+json": {
       "model_id": "",
       "version_major": 2,
       "version_minor": 0
      },
      "text/plain": [
       "Train batch:   0%|          | 0/10 [00:00<?, ?it/s]"
      ]
     },
     "metadata": {},
     "output_type": "display_data"
    },
    {
     "data": {
      "application/vnd.jupyter.widget-view+json": {
       "model_id": "",
       "version_major": 2,
       "version_minor": 0
      },
      "text/plain": [
       "  0%|          | 0/7 [00:00<?, ?it/s]"
      ]
     },
     "metadata": {},
     "output_type": "display_data"
    },
    {
     "data": {
      "application/vnd.jupyter.widget-view+json": {
       "model_id": "",
       "version_major": 2,
       "version_minor": 0
      },
      "text/plain": [
       "Train batch:   0%|          | 0/10 [00:00<?, ?it/s]"
      ]
     },
     "metadata": {},
     "output_type": "display_data"
    },
    {
     "data": {
      "application/vnd.jupyter.widget-view+json": {
       "model_id": "",
       "version_major": 2,
       "version_minor": 0
      },
      "text/plain": [
       "  0%|          | 0/7 [00:00<?, ?it/s]"
      ]
     },
     "metadata": {},
     "output_type": "display_data"
    }
   ],
   "source": [
    "from torch.optim import SGD\n",
    "\n",
    "# The top parameters need to be optimized\n",
    "optimizer = SGD(top_parameters, lr=0.1)\n",
    "\n",
    "run_training(model, optimizer, train_loader,\n",
    "             val_loader, num_epochs=25)"
   ]
  },
  {
   "cell_type": "markdown",
   "id": "d2ef4d6e",
   "metadata": {},
   "source": [
    "## Save the trained model"
   ]
  },
  {
   "cell_type": "code",
   "execution_count": 11,
   "id": "1214420d",
   "metadata": {},
   "outputs": [],
   "source": [
    "state_dict = model.state_dict()\n",
    "torch.save(state_dict, 'tl_cnn_clf.pth')"
   ]
  },
  {
   "cell_type": "code",
   "execution_count": null,
   "id": "53149c56",
   "metadata": {},
   "outputs": [],
   "source": []
  }
 ],
 "metadata": {
  "kernelspec": {
   "display_name": "Python 3",
   "language": "python",
   "name": "python3"
  },
  "language_info": {
   "codemirror_mode": {
    "name": "ipython",
    "version": 3
   },
   "file_extension": ".py",
   "mimetype": "text/x-python",
   "name": "python",
   "nbconvert_exporter": "python",
   "pygments_lexer": "ipython3",
   "version": "3.6.9"
  }
 },
 "nbformat": 4,
 "nbformat_minor": 5
}
