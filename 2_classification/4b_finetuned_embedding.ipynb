{
 "cells": [
  {
   "cell_type": "code",
   "execution_count": 1,
   "id": "99ef8502",
   "metadata": {},
   "outputs": [],
   "source": [
    "from torchvision.datasets import ImageFolder\n",
    "\n",
    "from lib.cnn_classifiers import train_transform, val_transform\n",
    "\n",
    "\n",
    "train_ds = ImageFolder(\n",
    "    'data/GroZiVitroBasic/',\n",
    "    transform=train_transform\n",
    ")\n",
    "\n",
    "val_gallery_ds = ImageFolder(\n",
    "    'data/sodas/gallery',\n",
    "    transform=val_transform\n",
    ")\n",
    "\n",
    "val_query_ds = ImageFolder(\n",
    "    'data/sodas/queries',\n",
    "    transform=val_transform\n",
    ")"
   ]
  },
  {
   "cell_type": "code",
   "execution_count": 2,
   "id": "a77837f4",
   "metadata": {},
   "outputs": [],
   "source": [
    "from lib.triplet_sampler import TripletSampler, split_triplet_tensor"
   ]
  },
  {
   "cell_type": "code",
   "execution_count": 3,
   "id": "30267a27",
   "metadata": {},
   "outputs": [],
   "source": [
    "batch_size = 3 * 10\n",
    "num_workers = 0"
   ]
  },
  {
   "cell_type": "code",
   "execution_count": 4,
   "id": "a3117bb6",
   "metadata": {
    "scrolled": false
   },
   "outputs": [],
   "source": [
    "from torch.utils.data import DataLoader\n",
    "\n",
    "train_loader = DataLoader(\n",
    "    dataset=train_ds,\n",
    "    batch_sampler=TripletSampler(train_ds, batch_size=batch_size),\n",
    "    num_workers=num_workers,\n",
    ")\n",
    "\n",
    "val_gallery_loader = DataLoader(\n",
    "    dataset=val_gallery_ds,\n",
    "    batch_size=batch_size,\n",
    "    shuffle=False,\n",
    "    num_workers=num_workers,\n",
    ")\n",
    "\n",
    "val_query_loader = DataLoader(\n",
    "    dataset=val_query_ds,\n",
    "    batch_size=batch_size,\n",
    "    shuffle=False,\n",
    "    num_workers=num_workers,\n",
    ")"
   ]
  },
  {
   "cell_type": "code",
   "execution_count": 5,
   "id": "41f4a808",
   "metadata": {},
   "outputs": [],
   "source": [
    "from torch import nn\n",
    "\n",
    "\n",
    "triplet_loss = nn.TripletMarginLoss(margin=1.0)\n",
    "\n",
    "\n",
    "def model_forward(model, imgs):\n",
    "    embeddings = model(imgs)\n",
    "    embeddings = torch.squeeze(embeddings)\n",
    "    return embeddings / embeddings.norm(dim=1, keepdim=True)\n",
    "\n",
    "\n",
    "def train_step(model, batch, batch_idx):\n",
    "    imgs, labels = batch\n",
    "\n",
    "    (a_labels,\n",
    "     p_labels,\n",
    "     n_labels) = split_triplet_tensor(labels)\n",
    "    assert torch.all(a_labels == p_labels)\n",
    "    assert torch.all(a_labels != n_labels)\n",
    "\n",
    "    embeddings = model_forward(model, imgs)\n",
    "\n",
    "    (a_embs,\n",
    "     p_embs,\n",
    "     n_embs) = split_triplet_tensor(embeddings)\n",
    "\n",
    "    return triplet_loss(a_embs, p_embs, n_embs)"
   ]
  },
  {
   "cell_type": "code",
   "execution_count": 6,
   "id": "497eb173",
   "metadata": {},
   "outputs": [],
   "source": [
    "from tqdm.notebook import tqdm\n",
    "from torch.utils.tensorboard import SummaryWriter\n",
    "import torch\n",
    "\n",
    "from lib.metric_learning import match_embeddings\n",
    "from lib.evaluation_metrics import calc_ap\n",
    "\n",
    "def run_train(model, optimizer, train_loader, val_gallery_loader,\n",
    "              val_query_loader, num_epochs=10):\n",
    "    device = torch.device('cuda' if torch.cuda.is_available() else 'cpu')\n",
    "    model.to(device)\n",
    "    \n",
    "    idx_to_class = {\n",
    "        idx: label\n",
    "        for label, idx in val_gallery_loader.dataset.class_to_idx.items()\n",
    "    }\n",
    "\n",
    "    writer = SummaryWriter()\n",
    "\n",
    "    for epoch in tqdm(range(num_epochs), desc='Epoch'):\n",
    "        # Training epoch\n",
    "        model.train()\n",
    "        for batch_idx, train_batch in tqdm(enumerate(train_loader),\n",
    "                                           total=len(train_loader),\n",
    "                                           leave=False, desc='Train batch'):\n",
    "            train_batch = batch_to_device(train_batch, device)\n",
    "            loss = train_step(model, train_batch, batch_idx)\n",
    "            writer.add_scalar(\"Loss/train\", loss, epoch)\n",
    "            optimizer.zero_grad()\n",
    "            loss.backward()\n",
    "            optimizer.step()\n",
    "\n",
    "        # Validation epoch\n",
    "        model.eval()\n",
    "\n",
    "        # Create gallery embeddings\n",
    "        gallery_embeddings = []\n",
    "        gallery_labels = []\n",
    "        for batch_idx, val_batch in tqdm(enumerate(val_gallery_loader),\n",
    "                                         total=len(val_gallery_loader),\n",
    "                                         leave=False, desc='Val gallery batch'):\n",
    "            val_batch = batch_to_device(val_batch, device)\n",
    "            imgs, labels = val_batch\n",
    "\n",
    "            with torch.no_grad():\n",
    "                embeddings = model_forward(model, imgs)\n",
    "\n",
    "            gallery_embeddings.append(embeddings)\n",
    "            gallery_labels.append(labels)\n",
    "\n",
    "        # Create query embeddings\n",
    "        query_embeddings = []\n",
    "        query_labels = []\n",
    "        for batch_idx, val_batch in tqdm(enumerate(val_query_loader),\n",
    "                                         total=len(val_query_loader),\n",
    "                                         leave=False, desc='Val query batch'):\n",
    "            val_batch = batch_to_device(val_batch, device)\n",
    "            imgs, labels = val_batch\n",
    "\n",
    "            with torch.no_grad():\n",
    "                embeddings = model_forward(model, imgs)\n",
    "\n",
    "            query_embeddings.append(embeddings)\n",
    "            query_labels.append(labels)\n",
    "\n",
    "\n",
    "        gallery_embeddings = torch.cat(gallery_embeddings).cpu()\n",
    "        query_embeddings = torch.cat(query_embeddings).cpu()\n",
    "        gallery_labels = torch.cat(gallery_labels).cpu().numpy()\n",
    "        query_labels = torch.cat(query_labels).cpu().numpy()\n",
    "\n",
    "        sim_mat = match_embeddings(gallery_embeddings, query_embeddings).numpy()\n",
    "        \n",
    "        for label in gallery_labels:\n",
    "            ap = calc_ap(label, sim_mat, gallery_labels, query_labels)\n",
    "            writer.add_scalar(f\"AP_val/{idx_to_class[label]}\", ap, epoch)\n",
    "\n",
    "    writer.flush()\n",
    "    writer.close()\n",
    "\n",
    "\n",
    "def batch_to_device(batch, device):\n",
    "    batch[0] = batch[0].to(device)\n",
    "    batch[1] = batch[1].to(device)\n",
    "\n",
    "    return batch"
   ]
  },
  {
   "cell_type": "code",
   "execution_count": 7,
   "id": "2eb0c03c",
   "metadata": {},
   "outputs": [
    {
     "data": {
      "text/html": [
       "\n",
       "      <iframe id=\"tensorboard-frame-929010be3822f446\" width=\"100%\" height=\"800\" frameborder=\"0\">\n",
       "      </iframe>\n",
       "      <script>\n",
       "        (function() {\n",
       "          const frame = document.getElementById(\"tensorboard-frame-929010be3822f446\");\n",
       "          const url = new URL(\"/\", window.location);\n",
       "          const port = 6006;\n",
       "          if (port) {\n",
       "            url.port = port;\n",
       "          }\n",
       "          frame.src = url;\n",
       "        })();\n",
       "      </script>\n",
       "    "
      ],
      "text/plain": [
       "<IPython.core.display.HTML object>"
      ]
     },
     "metadata": {},
     "output_type": "display_data"
    }
   ],
   "source": [
    "import tensorboard\n",
    "\n",
    "%load_ext tensorboard\n",
    "%tensorboard --logdir runs"
   ]
  },
  {
   "cell_type": "code",
   "execution_count": null,
   "id": "dd4057f7",
   "metadata": {},
   "outputs": [
    {
     "data": {
      "application/vnd.jupyter.widget-view+json": {
       "model_id": "9d6c9b9bb3b741e7bda09ce01919cdc4",
       "version_major": 2,
       "version_minor": 0
      },
      "text/plain": [
       "Epoch:   0%|          | 0/50 [00:00<?, ?it/s]"
      ]
     },
     "metadata": {},
     "output_type": "display_data"
    },
    {
     "data": {
      "application/vnd.jupyter.widget-view+json": {
       "model_id": "",
       "version_major": 2,
       "version_minor": 0
      },
      "text/plain": [
       "Train batch:   0%|          | 0/67 [00:00<?, ?it/s]"
      ]
     },
     "metadata": {},
     "output_type": "display_data"
    },
    {
     "data": {
      "application/vnd.jupyter.widget-view+json": {
       "model_id": "",
       "version_major": 2,
       "version_minor": 0
      },
      "text/plain": [
       "Val gallery batch:   0%|          | 0/1 [00:00<?, ?it/s]"
      ]
     },
     "metadata": {},
     "output_type": "display_data"
    },
    {
     "data": {
      "application/vnd.jupyter.widget-view+json": {
       "model_id": "",
       "version_major": 2,
       "version_minor": 0
      },
      "text/plain": [
       "Val query batch:   0%|          | 0/1 [00:00<?, ?it/s]"
      ]
     },
     "metadata": {},
     "output_type": "display_data"
    },
    {
     "data": {
      "application/vnd.jupyter.widget-view+json": {
       "model_id": "",
       "version_major": 2,
       "version_minor": 0
      },
      "text/plain": [
       "Train batch:   0%|          | 0/67 [00:00<?, ?it/s]"
      ]
     },
     "metadata": {},
     "output_type": "display_data"
    },
    {
     "data": {
      "application/vnd.jupyter.widget-view+json": {
       "model_id": "",
       "version_major": 2,
       "version_minor": 0
      },
      "text/plain": [
       "Val gallery batch:   0%|          | 0/1 [00:00<?, ?it/s]"
      ]
     },
     "metadata": {},
     "output_type": "display_data"
    },
    {
     "data": {
      "application/vnd.jupyter.widget-view+json": {
       "model_id": "",
       "version_major": 2,
       "version_minor": 0
      },
      "text/plain": [
       "Val query batch:   0%|          | 0/1 [00:00<?, ?it/s]"
      ]
     },
     "metadata": {},
     "output_type": "display_data"
    },
    {
     "data": {
      "application/vnd.jupyter.widget-view+json": {
       "model_id": "dccfb177e52e40a0810bdf25bfdb4a47",
       "version_major": 2,
       "version_minor": 0
      },
      "text/plain": [
       "Train batch:   0%|          | 0/67 [00:00<?, ?it/s]"
      ]
     },
     "metadata": {},
     "output_type": "display_data"
    }
   ],
   "source": [
    "from lib.metric_learning import get_cut_off_cnn\n",
    "from torch.optim import SGD\n",
    "\n",
    "\n",
    "model = get_cut_off_cnn('resnet50')\n",
    "\n",
    "for param in model.parameters():\n",
    "    param.requires_grad = False\n",
    "\n",
    "for param in model.layer4.parameters():\n",
    "    param.requires_grad = True\n",
    "\n",
    "optimizer = SGD(model.layer4.parameters(), lr=0.01)\n",
    "\n",
    "run_train(model, optimizer, train_loader,\n",
    "          val_gallery_loader, val_query_loader,\n",
    "          num_epochs=50)"
   ]
  },
  {
   "cell_type": "code",
   "execution_count": null,
   "id": "1214420d",
   "metadata": {},
   "outputs": [],
   "source": []
  }
 ],
 "metadata": {
  "kernelspec": {
   "display_name": "Python 3",
   "language": "python",
   "name": "python3"
  },
  "language_info": {
   "codemirror_mode": {
    "name": "ipython",
    "version": 3
   },
   "file_extension": ".py",
   "mimetype": "text/x-python",
   "name": "python",
   "nbconvert_exporter": "python",
   "pygments_lexer": "ipython3",
   "version": "3.6.9"
  }
 },
 "nbformat": 4,
 "nbformat_minor": 5
}
