{
 "cells": [
  {
   "cell_type": "markdown",
   "metadata": {
    "id": "aT9GbLG_bSes"
   },
   "source": [
    "# Object detection"
   ]
  },
  {
   "cell_type": "code",
   "execution_count": null,
   "metadata": {
    "id": "WIuDwL0fbSey"
   },
   "outputs": [],
   "source": [
    "# import libraries \n",
    "import numpy as np\n",
    "import cv2\n",
    "import matplotlib.pyplot as plt\n",
    "import os"
   ]
  },
  {
   "cell_type": "markdown",
   "metadata": {
    "id": "B8cr6W1XbSe1"
   },
   "source": [
    "## Template matching"
   ]
  },
  {
   "cell_type": "code",
   "execution_count": null,
   "metadata": {
    "colab": {
     "base_uri": "https://localhost:8080/",
     "height": 249
    },
    "id": "YoQtKvwMbSe2",
    "outputId": "fc07cd4a-0e87-4cf0-cc91-19d93ffaf131"
   },
   "outputs": [],
   "source": [
    "# load images\n",
    "\n",
    "dataset_path = 'data/'\n",
    "\n",
    "#load template image\n",
    "logo = cv2.imread(os.path.join(dataset_path, 'fiducial.png'))\n",
    "#logo = cv2.resize(logo, (0,0), fx=0.25, fy=0.25, interpolation=cv2.INTER_LINEAR);\n",
    "logo = np.float32(cv2.cvtColor(logo, cv2.COLOR_BGR2RGB))/256.0\n",
    "ch, w, h = logo.shape[::-1]\n",
    "\n",
    "#load query image\n",
    "#img1 = cv2.imread(os.path.join(dataset_path, 'map_planckendael.png'))\n",
    "img1 = cv2.imread(os.path.join(dataset_path, 'pcb_1.png'))\n",
    "#img1 = cv2.resize(img1, (0,0), fx=0.25, fy=0.25, interpolation=cv2.INTER_LINEAR);\n",
    "img1 = np.float32(cv2.cvtColor(img1, cv2.COLOR_BGR2RGB))/256.0  # Convert from cv's BRG default color order to RGB\n",
    "\n",
    "#plot images\n",
    "plt.figure(figsize=(16, 8))\n",
    "plt.subplot(221),plt.imshow(logo)\n",
    "plt.subplot(222),plt.imshow(img1)\n",
    "plt.show()"
   ]
  },
  {
   "cell_type": "code",
   "execution_count": null,
   "metadata": {
    "colab": {
     "base_uri": "https://localhost:8080/",
     "height": 626
    },
    "id": "ZrNx0a1vbSe3",
    "outputId": "bbcac3e2-4e26-4e10-b5d3-1ef97ecd9f93"
   },
   "outputs": [],
   "source": [
    "#compute normalized cross correllation map\n",
    "res = cv2.matchTemplate(img1,logo,cv2.TM_CCORR_NORMED)\n",
    "min_val, max_val, min_loc, max_loc = cv2.minMaxLoc(res)\n",
    "top_left = max_loc\n",
    "bottom_right = (top_left[0] + w, top_left[1] + h)\n",
    "\n",
    "#plot cross correllation heatmap\n",
    "cv2.rectangle(img1,top_left, bottom_right, 255, 2)\n",
    "plt.figure(figsize=(16, 16))\n",
    "plt.imshow(res, cmap=\"coolwarm\")\n",
    "plt.show()"
   ]
  },
  {
   "cell_type": "code",
   "execution_count": null,
   "metadata": {
    "colab": {
     "base_uri": "https://localhost:8080/",
     "height": 466
    },
    "id": "5K8sCh3kbSe4",
    "outputId": "63e4bf90-e582-4e68-b6b7-5e91311ea2e6"
   },
   "outputs": [],
   "source": [
    "%matplotlib notebook\n",
    "#plot 3D heatmap\n",
    "xx, yy = np.mgrid[0:res.shape[0], 0:res.shape[1]]\n",
    "\n",
    "with plt.ion():\n",
    "    # create the figure\n",
    "    fig = plt.figure(figsize=(16, 8))\n",
    "    ax = fig.add_subplot(projection='3d')\n",
    "    ax.plot_surface(xx, yy, res, cmap=\"coolwarm\", rstride=10, cstride=10, linewidth=0)\n",
    "    plt.show()"
   ]
  },
  {
   "cell_type": "code",
   "execution_count": null,
   "metadata": {
    "colab": {
     "base_uri": "https://localhost:8080/",
     "height": 771
    },
    "id": "C1EVsb4NbSe5",
    "outputId": "e02d468f-1846-4a27-9e1b-09326bbf90f7"
   },
   "outputs": [],
   "source": [
    "#now find multiple occurences\n",
    "threshold = 0.99\n",
    "loc = np.where( res >= threshold)\n",
    "print(loc)\n",
    "print(\"found \"+str(len(loc[0]))+\" matches\")\n",
    "for pt in zip(*loc[::-1]):\n",
    "    cv2.rectangle(img1, pt, (pt[0] + w, pt[1] + h), 1.0, 2)\n",
    "\n",
    "#plot and save image    \n",
    "plt.figure(figsize=(16, 16))\n",
    "plt.imshow(img1)\n",
    "plt.show()\n",
    "img1_save = cv2.cvtColor(img1*256, cv2.COLOR_RGB2BGR)\n",
    "cv2.imwrite(\"result_playgrounds.png\",img1_save)"
   ]
  },
  {
   "cell_type": "code",
   "execution_count": null,
   "metadata": {},
   "outputs": [],
   "source": []
  }
 ],
 "metadata": {
  "colab": {
   "collapsed_sections": [],
   "name": "templatematching.ipynb",
   "provenance": []
  },
  "kernelspec": {
   "display_name": "maibi_cv",
   "language": "python",
   "name": "maibi_cv"
  },
  "language_info": {
   "codemirror_mode": {
    "name": "ipython",
    "version": 3
   },
   "file_extension": ".py",
   "mimetype": "text/x-python",
   "name": "python",
   "nbconvert_exporter": "python",
   "pygments_lexer": "ipython3",
   "version": "3.9.12"
  }
 },
 "nbformat": 4,
 "nbformat_minor": 4
}
