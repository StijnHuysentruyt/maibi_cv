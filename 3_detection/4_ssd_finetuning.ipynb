{
 "cells": [
  {
   "cell_type": "markdown",
   "metadata": {
    "id": "DfPPQ6ztJhv4"
   },
   "source": [
    "# TorchVision SSD Finetuning Tutorial\n",
    "\n",
    "Based on [TorchVision Object Detection Finetuning Tutorial](https://pytorch.org/tutorials/intermediate/torchvision_tutorial.html)."
   ]
  },
  {
   "cell_type": "markdown",
   "metadata": {
    "id": "RoAEkUgn4uEq"
   },
   "source": [
    "## Defining your model"
   ]
  },
  {
   "cell_type": "code",
   "execution_count": null,
   "metadata": {
    "id": "YjNHjVMOyYlH"
   },
   "outputs": [],
   "source": [
    "from torchvision.models.detection.ssd import ssd300_vgg16, SSD300_VGG16_Weights\n",
    "\n",
    "\n",
    "model = ssd300_vgg16(weights=SSD300_VGG16_Weights.DEFAULT)"
   ]
  },
  {
   "cell_type": "markdown",
   "metadata": {
    "id": "-WXLwePV5ieP"
   },
   "source": [
    "## Training and evaluation functions"
   ]
  },
  {
   "cell_type": "code",
   "execution_count": null,
   "metadata": {
    "colab": {
     "base_uri": "https://localhost:8080/"
    },
    "id": "a5dGaIezze3y",
    "outputId": "5cf908c4-a3c6-4c7b-b6f5-7633e8b43594"
   },
   "outputs": [],
   "source": [
    "import lib.detection.transforms as T\n",
    "from lib.penn_fundan import PennFudanDataset\n",
    "\n",
    "# Define data transforms for training batches\n",
    "train_tfm = T.Compose([\n",
    "    T.ToTensor(),  # converts the image, a PIL image, into a PyTorch Tensor\n",
    "    T.RandomHorizontalFlip(0.5)  # randomly flip the training images\n",
    "])\n",
    "\n",
    "# Define data transforms for validation batches\n",
    "val_tfm = T.ToTensor()\n",
    "\n",
    "# Define datasets\n",
    "dataset_train = PennFudanDataset('data/PennFudanPed/', train_tfm)\n",
    "dataset_val = PennFudanDataset('data/PennFudanPed/', val_tfm)"
   ]
  },
  {
   "cell_type": "code",
   "execution_count": null,
   "metadata": {
    "colab": {
     "base_uri": "https://localhost:8080/"
    },
    "id": "a5dGaIezze3y",
    "outputId": "5cf908c4-a3c6-4c7b-b6f5-7633e8b43594"
   },
   "outputs": [],
   "source": [
    "from torch.utils.data import DataLoader\n",
    "from lib.detection.utils import collate_fn\n",
    "\n",
    "\n",
    "# define training and validation data loaders\n",
    "data_loader_train = DataLoader(\n",
    "    dataset_train, batch_size=2, shuffle=True, num_workers=4,\n",
    "    collate_fn=collate_fn\n",
    ")\n",
    "\n",
    "data_loader_val = DataLoader(\n",
    "    dataset_val, batch_size=2, shuffle=False, num_workers=4,\n",
    "    collate_fn=collate_fn\n",
    ")"
   ]
  },
  {
   "cell_type": "code",
   "execution_count": null,
   "metadata": {
    "id": "zoenkCj18C4h"
   },
   "outputs": [],
   "source": [
    "import torch\n",
    "from torch.optim.lr_scheduler import StepLR\n",
    "from torch.optim import SGD\n",
    "\n",
    "\n",
    "device = torch.device('cuda') if torch.cuda.is_available() else torch.device('cpu')\n",
    "\n",
    "# our dataset has two classes only - background and product\n",
    "num_classes = 2\n",
    "\n",
    "# move model to the right device\n",
    "model.to(device)\n",
    "\n",
    "# construct an optimizer\n",
    "params = [p for p in model.parameters() if p.requires_grad]\n",
    "optimizer = SGD(params, lr=0.0005, momentum=0.9, weight_decay=0.0005)\n",
    "\n",
    "# and a learning rate scheduler which decreases the learning rate by\n",
    "# 10x every 3 epochs\n",
    "lr_scheduler = StepLR(optimizer,\n",
    "                      step_size=3,\n",
    "                      gamma=0.1)"
   ]
  },
  {
   "cell_type": "markdown",
   "metadata": {},
   "source": [
    "## Start TensorBoard for logging\n",
    "\n",
    "To start TensorBoard on VSC OnDemand, go to [the dashboard](https://ondemand.hpc.kuleuven.be/pun/sys/dashboard/) and click on \"TensorBoard\". Use the following settings:\n",
    "\n",
    "- Number of cores: 1\n",
    "- Account: lp_edu_maibi_anndl\n",
    "- Partition: interactive\n",
    "- Project/Log folder: maibi_cv/3_detection/runs\n",
    "- Number of hours: 4\n",
    "- Number of gpu's: 0\n",
    "\n",
    "Leave the other settings at their default values."
   ]
  },
  {
   "cell_type": "code",
   "execution_count": null,
   "metadata": {
    "colab": {
     "base_uri": "https://localhost:8080/",
     "height": 1000
    },
    "id": "at-h4OWK0aoc",
    "outputId": "ab6753bc-6251-42e5-d65b-32efec93c61e"
   },
   "outputs": [],
   "source": [
    "from lib.detection.engine import train_one_epoch, evaluate\n",
    "from torch.utils.tensorboard import SummaryWriter\n",
    "\n",
    "num_epochs = 10\n",
    "\n",
    "writer = SummaryWriter()\n",
    "\n",
    "for epoch in range(num_epochs):\n",
    "    train_one_epoch(model, optimizer, data_loader_train,\n",
    "                    device, epoch, writer=writer)\n",
    "    # update the learning rate\n",
    "    lr_scheduler.step()\n",
    "    # evaluate on the validation dataset\n",
    "    evaluate(model, data_loader_val, device, epoch, writer=writer)"
   ]
  },
  {
   "cell_type": "code",
   "execution_count": null,
   "metadata": {
    "id": "YHwIdxH76uPj"
   },
   "outputs": [],
   "source": [
    "# pick one image from the test set\n",
    "img, _ = dataset_val[0]\n",
    "# put the model in evaluation mode\n",
    "model.eval()\n",
    "with torch.no_grad():\n",
    "    prediction = model([img.to(device)])"
   ]
  },
  {
   "cell_type": "code",
   "execution_count": null,
   "metadata": {
    "colab": {
     "base_uri": "https://localhost:8080/"
    },
    "id": "Lkmb3qUu6zw3",
    "outputId": "7e876402-3a0f-4696-a13e-6ddcabb5fb77"
   },
   "outputs": [],
   "source": [
    "prediction"
   ]
  },
  {
   "cell_type": "code",
   "execution_count": null,
   "metadata": {
    "scrolled": false
   },
   "outputs": [],
   "source": [
    "from PIL import Image, ImageDraw\n",
    "\n",
    "im = Image.fromarray(img.mul(255).permute(1, 2, 0).byte().numpy())\n",
    "draw = ImageDraw.Draw(im)\n",
    "\n",
    "for box in prediction[0]['boxes'].cpu().numpy():\n",
    "    draw.rectangle(box, width=5)\n",
    "\n",
    "im"
   ]
  }
 ],
 "metadata": {
  "accelerator": "GPU",
  "colab": {
   "collapsed_sections": [],
   "name": "torchvision_finetuning_instance_segmentation.ipynb",
   "provenance": []
  },
  "kernelspec": {
   "display_name": "maibi_cv",
   "language": "python",
   "name": "maibi_cv"
  },
  "language_info": {
   "codemirror_mode": {
    "name": "ipython",
    "version": 3
   },
   "file_extension": ".py",
   "mimetype": "text/x-python",
   "name": "python",
   "nbconvert_exporter": "python",
   "pygments_lexer": "ipython3",
   "version": "3.9.12"
  }
 },
 "nbformat": 4,
 "nbformat_minor": 1
}
